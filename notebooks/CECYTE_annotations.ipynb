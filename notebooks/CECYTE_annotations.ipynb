{
 "cells": [
  {
   "cell_type": "code",
   "execution_count": 1,
   "metadata": {
    "collapsed": true
   },
   "outputs": [],
   "source": [
    "import pandas as pd\n",
    "import numpy as np\n",
    "from itertools import chain\n",
    "from operator import sub\n",
    "import math\n",
    "import matplotlib.pyplot as plt\n",
    "import matplotlib.ticker\n",
    "import scipy.stats as stats\n",
    "import scipy\n",
    "%matplotlib inline"
   ]
  },
  {
   "cell_type": "code",
   "execution_count": 2,
   "metadata": {
    "collapsed": true
   },
   "outputs": [],
   "source": [
    "df_hits=pd.read_csv(\"datasets/CECYTEGTO_2017_ANNOTATIONS.csv\",sep=\",\",index_col=False)"
   ]
  },
  {
   "cell_type": "code",
   "execution_count": 3,
   "metadata": {},
   "outputs": [
    {
     "data": {
      "text/html": [
       "<div>\n",
       "<style>\n",
       "    .dataframe thead tr:only-child th {\n",
       "        text-align: right;\n",
       "    }\n",
       "\n",
       "    .dataframe thead th {\n",
       "        text-align: left;\n",
       "    }\n",
       "\n",
       "    .dataframe tbody tr th {\n",
       "        vertical-align: top;\n",
       "    }\n",
       "</style>\n",
       "<table border=\"1\" class=\"dataframe\">\n",
       "  <thead>\n",
       "    <tr style=\"text-align: right;\">\n",
       "      <th></th>\n",
       "      <th>id</th>\n",
       "      <th>imageName</th>\n",
       "      <th>fileName</th>\n",
       "      <th>timeStamp</th>\n",
       "      <th>user</th>\n",
       "      <th>status</th>\n",
       "      <th>q1</th>\n",
       "      <th>q2</th>\n",
       "      <th>q3</th>\n",
       "      <th>q4</th>\n",
       "      <th>...</th>\n",
       "      <th>as1</th>\n",
       "      <th>as2</th>\n",
       "      <th>as3</th>\n",
       "      <th>as4</th>\n",
       "      <th>as5</th>\n",
       "      <th>as6</th>\n",
       "      <th>as7</th>\n",
       "      <th>as8</th>\n",
       "      <th>as9</th>\n",
       "      <th>as10</th>\n",
       "    </tr>\n",
       "  </thead>\n",
       "  <tbody>\n",
       "    <tr>\n",
       "      <th>0</th>\n",
       "      <td>1</td>\n",
       "      <td>s_20140117_172513.jpg</td>\n",
       "      <td>4aa87923_c558_4d30_a414_2fc50935db29.php</td>\n",
       "      <td>1509701369</td>\n",
       "      <td>0</td>\n",
       "      <td>COMPLETED</td>\n",
       "      <td>2</td>\n",
       "      <td>1</td>\n",
       "      <td>6</td>\n",
       "      <td>3</td>\n",
       "      <td>...</td>\n",
       "      <td>1</td>\n",
       "      <td>-1</td>\n",
       "      <td>1</td>\n",
       "      <td>-1</td>\n",
       "      <td>1</td>\n",
       "      <td>-1</td>\n",
       "      <td>1</td>\n",
       "      <td>-1</td>\n",
       "      <td>-1</td>\n",
       "      <td>1</td>\n",
       "    </tr>\n",
       "    <tr>\n",
       "      <th>1</th>\n",
       "      <td>2</td>\n",
       "      <td>s_20140724_144426.jpg</td>\n",
       "      <td>78527eb6_7e95_4697_88b7_ee0794d18f60.php</td>\n",
       "      <td>1509726096</td>\n",
       "      <td>0</td>\n",
       "      <td>COMPLETED</td>\n",
       "      <td>4</td>\n",
       "      <td>5</td>\n",
       "      <td>1</td>\n",
       "      <td>3</td>\n",
       "      <td>...</td>\n",
       "      <td>-1</td>\n",
       "      <td>-1</td>\n",
       "      <td>-1</td>\n",
       "      <td>-1</td>\n",
       "      <td>-1</td>\n",
       "      <td>-1</td>\n",
       "      <td>1</td>\n",
       "      <td>-1</td>\n",
       "      <td>-1</td>\n",
       "      <td>-1</td>\n",
       "    </tr>\n",
       "    <tr>\n",
       "      <th>2</th>\n",
       "      <td>3</td>\n",
       "      <td>s_20140222_142511.jpg</td>\n",
       "      <td>5507a2ae_79aa_4941_8be2_ca884e2dac13.php</td>\n",
       "      <td>1509701505</td>\n",
       "      <td>0</td>\n",
       "      <td>COMPLETED</td>\n",
       "      <td>3</td>\n",
       "      <td>5</td>\n",
       "      <td>4</td>\n",
       "      <td>1</td>\n",
       "      <td>...</td>\n",
       "      <td>-1</td>\n",
       "      <td>-1</td>\n",
       "      <td>-1</td>\n",
       "      <td>-1</td>\n",
       "      <td>-1</td>\n",
       "      <td>-1</td>\n",
       "      <td>-1</td>\n",
       "      <td>-1</td>\n",
       "      <td>-1</td>\n",
       "      <td>-1</td>\n",
       "    </tr>\n",
       "    <tr>\n",
       "      <th>3</th>\n",
       "      <td>4</td>\n",
       "      <td>s_20140726_114957.jpg</td>\n",
       "      <td>fd7688e5_e0c9_4900_a161_78afad10f5ba.php</td>\n",
       "      <td>1509701546</td>\n",
       "      <td>0</td>\n",
       "      <td>COMPLETED</td>\n",
       "      <td>5</td>\n",
       "      <td>6</td>\n",
       "      <td>1</td>\n",
       "      <td>2</td>\n",
       "      <td>...</td>\n",
       "      <td>-1</td>\n",
       "      <td>-1</td>\n",
       "      <td>-1</td>\n",
       "      <td>-1</td>\n",
       "      <td>-1</td>\n",
       "      <td>-1</td>\n",
       "      <td>-1</td>\n",
       "      <td>-1</td>\n",
       "      <td>-1</td>\n",
       "      <td>-1</td>\n",
       "    </tr>\n",
       "    <tr>\n",
       "      <th>4</th>\n",
       "      <td>5</td>\n",
       "      <td>s_20140121_142101.jpg</td>\n",
       "      <td>80597ee5_84a6_45c2_b9ca_ac0ed6192aef.php</td>\n",
       "      <td>1509701609</td>\n",
       "      <td>0</td>\n",
       "      <td>COMPLETED</td>\n",
       "      <td>6</td>\n",
       "      <td>1</td>\n",
       "      <td>3</td>\n",
       "      <td>4</td>\n",
       "      <td>...</td>\n",
       "      <td>-1</td>\n",
       "      <td>-1</td>\n",
       "      <td>1</td>\n",
       "      <td>1</td>\n",
       "      <td>-1</td>\n",
       "      <td>-1</td>\n",
       "      <td>1</td>\n",
       "      <td>-1</td>\n",
       "      <td>1</td>\n",
       "      <td>1</td>\n",
       "    </tr>\n",
       "  </tbody>\n",
       "</table>\n",
       "<p>5 rows × 38 columns</p>\n",
       "</div>"
      ],
      "text/plain": [
       "   id              imageName                                  fileName  \\\n",
       "0   1  s_20140117_172513.jpg  4aa87923_c558_4d30_a414_2fc50935db29.php   \n",
       "1   2  s_20140724_144426.jpg  78527eb6_7e95_4697_88b7_ee0794d18f60.php   \n",
       "2   3  s_20140222_142511.jpg  5507a2ae_79aa_4941_8be2_ca884e2dac13.php   \n",
       "3   4  s_20140726_114957.jpg  fd7688e5_e0c9_4900_a161_78afad10f5ba.php   \n",
       "4   5  s_20140121_142101.jpg  80597ee5_84a6_45c2_b9ca_ac0ed6192aef.php   \n",
       "\n",
       "    timeStamp  user     status  q1  q2  q3  q4  ...   as1  as2  as3  as4  as5  \\\n",
       "0  1509701369     0  COMPLETED   2   1   6   3  ...     1   -1    1   -1    1   \n",
       "1  1509726096     0  COMPLETED   4   5   1   3  ...    -1   -1   -1   -1   -1   \n",
       "2  1509701505     0  COMPLETED   3   5   4   1  ...    -1   -1   -1   -1   -1   \n",
       "3  1509701546     0  COMPLETED   5   6   1   2  ...    -1   -1   -1   -1   -1   \n",
       "4  1509701609     0  COMPLETED   6   1   3   4  ...    -1   -1    1    1   -1   \n",
       "\n",
       "   as6  as7  as8  as9  as10  \n",
       "0   -1    1   -1   -1     1  \n",
       "1   -1    1   -1   -1    -1  \n",
       "2   -1   -1   -1   -1    -1  \n",
       "3   -1   -1   -1   -1    -1  \n",
       "4   -1    1   -1    1     1  \n",
       "\n",
       "[5 rows x 38 columns]"
      ]
     },
     "execution_count": 3,
     "metadata": {},
     "output_type": "execute_result"
    }
   ],
   "source": [
    "df_hits.head()"
   ]
  },
  {
   "cell_type": "code",
   "execution_count": 4,
   "metadata": {},
   "outputs": [
    {
     "data": {
      "text/html": [
       "<div>\n",
       "<style>\n",
       "    .dataframe thead tr:only-child th {\n",
       "        text-align: right;\n",
       "    }\n",
       "\n",
       "    .dataframe thead th {\n",
       "        text-align: left;\n",
       "    }\n",
       "\n",
       "    .dataframe tbody tr th {\n",
       "        vertical-align: top;\n",
       "    }\n",
       "</style>\n",
       "<table border=\"1\" class=\"dataframe\">\n",
       "  <thead>\n",
       "    <tr style=\"text-align: right;\">\n",
       "      <th></th>\n",
       "      <th>id</th>\n",
       "      <th>imageName</th>\n",
       "      <th>fileName</th>\n",
       "      <th>timeStamp</th>\n",
       "      <th>user</th>\n",
       "      <th>status</th>\n",
       "      <th>q1</th>\n",
       "      <th>q2</th>\n",
       "      <th>q3</th>\n",
       "      <th>q4</th>\n",
       "      <th>...</th>\n",
       "      <th>as1</th>\n",
       "      <th>as2</th>\n",
       "      <th>as3</th>\n",
       "      <th>as4</th>\n",
       "      <th>as5</th>\n",
       "      <th>as6</th>\n",
       "      <th>as7</th>\n",
       "      <th>as8</th>\n",
       "      <th>as9</th>\n",
       "      <th>as10</th>\n",
       "    </tr>\n",
       "  </thead>\n",
       "  <tbody>\n",
       "    <tr>\n",
       "      <th>5995</th>\n",
       "      <td>5996</td>\n",
       "      <td>s_20140717_165520.jpg</td>\n",
       "      <td>e72f970c_f198_4551_9bd0_4505baa9b92f.php</td>\n",
       "      <td>1513065743</td>\n",
       "      <td>0</td>\n",
       "      <td>COMPLETED</td>\n",
       "      <td>1</td>\n",
       "      <td>5</td>\n",
       "      <td>6</td>\n",
       "      <td>2</td>\n",
       "      <td>...</td>\n",
       "      <td>-1</td>\n",
       "      <td>1</td>\n",
       "      <td>1</td>\n",
       "      <td>-1</td>\n",
       "      <td>-1</td>\n",
       "      <td>1</td>\n",
       "      <td>1</td>\n",
       "      <td>-1</td>\n",
       "      <td>-1</td>\n",
       "      <td>1</td>\n",
       "    </tr>\n",
       "    <tr>\n",
       "      <th>5996</th>\n",
       "      <td>5997</td>\n",
       "      <td>s_20140724_150902.jpg</td>\n",
       "      <td>0dbb7413_cc7a_4f90_82d2_52e63a17673b.php</td>\n",
       "      <td>1513065777</td>\n",
       "      <td>0</td>\n",
       "      <td>COMPLETED</td>\n",
       "      <td>6</td>\n",
       "      <td>1</td>\n",
       "      <td>5</td>\n",
       "      <td>2</td>\n",
       "      <td>...</td>\n",
       "      <td>-1</td>\n",
       "      <td>-1</td>\n",
       "      <td>1</td>\n",
       "      <td>-1</td>\n",
       "      <td>-1</td>\n",
       "      <td>-1</td>\n",
       "      <td>1</td>\n",
       "      <td>1</td>\n",
       "      <td>-1</td>\n",
       "      <td>-1</td>\n",
       "    </tr>\n",
       "    <tr>\n",
       "      <th>5997</th>\n",
       "      <td>5998</td>\n",
       "      <td>s_20140712_122902.jpg</td>\n",
       "      <td>ddfba026_5d65_4728_8f42_9e9ec9be8dd7.php</td>\n",
       "      <td>1513065808</td>\n",
       "      <td>0</td>\n",
       "      <td>COMPLETED</td>\n",
       "      <td>6</td>\n",
       "      <td>4</td>\n",
       "      <td>5</td>\n",
       "      <td>3</td>\n",
       "      <td>...</td>\n",
       "      <td>-1</td>\n",
       "      <td>1</td>\n",
       "      <td>-1</td>\n",
       "      <td>-1</td>\n",
       "      <td>1</td>\n",
       "      <td>-1</td>\n",
       "      <td>-1</td>\n",
       "      <td>-1</td>\n",
       "      <td>-1</td>\n",
       "      <td>1</td>\n",
       "    </tr>\n",
       "    <tr>\n",
       "      <th>5998</th>\n",
       "      <td>5999</td>\n",
       "      <td>s_20140712_133718.jpg</td>\n",
       "      <td>36004d1c_66b5_46a4_8ef6_171e5f5093a0.php</td>\n",
       "      <td>1513065841</td>\n",
       "      <td>0</td>\n",
       "      <td>COMPLETED</td>\n",
       "      <td>5</td>\n",
       "      <td>2</td>\n",
       "      <td>6</td>\n",
       "      <td>3</td>\n",
       "      <td>...</td>\n",
       "      <td>-1</td>\n",
       "      <td>-1</td>\n",
       "      <td>-1</td>\n",
       "      <td>1</td>\n",
       "      <td>1</td>\n",
       "      <td>-1</td>\n",
       "      <td>1</td>\n",
       "      <td>-1</td>\n",
       "      <td>-1</td>\n",
       "      <td>1</td>\n",
       "    </tr>\n",
       "    <tr>\n",
       "      <th>5999</th>\n",
       "      <td>6000</td>\n",
       "      <td>s_20140524_110018.jpg</td>\n",
       "      <td>ce595247_f312_4f53_bb22_199d9dce9978.php</td>\n",
       "      <td>1513065871</td>\n",
       "      <td>0</td>\n",
       "      <td>COMPLETED</td>\n",
       "      <td>5</td>\n",
       "      <td>2</td>\n",
       "      <td>3</td>\n",
       "      <td>4</td>\n",
       "      <td>...</td>\n",
       "      <td>-1</td>\n",
       "      <td>1</td>\n",
       "      <td>1</td>\n",
       "      <td>1</td>\n",
       "      <td>1</td>\n",
       "      <td>-1</td>\n",
       "      <td>-1</td>\n",
       "      <td>1</td>\n",
       "      <td>1</td>\n",
       "      <td>1</td>\n",
       "    </tr>\n",
       "  </tbody>\n",
       "</table>\n",
       "<p>5 rows × 38 columns</p>\n",
       "</div>"
      ],
      "text/plain": [
       "        id              imageName                                  fileName  \\\n",
       "5995  5996  s_20140717_165520.jpg  e72f970c_f198_4551_9bd0_4505baa9b92f.php   \n",
       "5996  5997  s_20140724_150902.jpg  0dbb7413_cc7a_4f90_82d2_52e63a17673b.php   \n",
       "5997  5998  s_20140712_122902.jpg  ddfba026_5d65_4728_8f42_9e9ec9be8dd7.php   \n",
       "5998  5999  s_20140712_133718.jpg  36004d1c_66b5_46a4_8ef6_171e5f5093a0.php   \n",
       "5999  6000  s_20140524_110018.jpg  ce595247_f312_4f53_bb22_199d9dce9978.php   \n",
       "\n",
       "       timeStamp  user     status  q1  q2  q3  q4  ...   as1  as2  as3  as4  \\\n",
       "5995  1513065743     0  COMPLETED   1   5   6   2  ...    -1    1    1   -1   \n",
       "5996  1513065777     0  COMPLETED   6   1   5   2  ...    -1   -1    1   -1   \n",
       "5997  1513065808     0  COMPLETED   6   4   5   3  ...    -1    1   -1   -1   \n",
       "5998  1513065841     0  COMPLETED   5   2   6   3  ...    -1   -1   -1    1   \n",
       "5999  1513065871     0  COMPLETED   5   2   3   4  ...    -1    1    1    1   \n",
       "\n",
       "      as5  as6  as7  as8  as9  as10  \n",
       "5995   -1    1    1   -1   -1     1  \n",
       "5996   -1   -1    1    1   -1    -1  \n",
       "5997    1   -1   -1   -1   -1     1  \n",
       "5998    1   -1    1   -1   -1     1  \n",
       "5999    1   -1   -1    1    1     1  \n",
       "\n",
       "[5 rows x 38 columns]"
      ]
     },
     "execution_count": 4,
     "metadata": {},
     "output_type": "execute_result"
    }
   ],
   "source": [
    "df_hits.tail()"
   ]
  },
  {
   "cell_type": "code",
   "execution_count": 5,
   "metadata": {},
   "outputs": [
    {
     "name": "stdout",
     "output_type": "stream",
     "text": [
      "There are 0 ids missing:\n",
      "\n",
      "[]\n"
     ]
    }
   ],
   "source": [
    "#Looking at the missing id's\n",
    "#https://stackoverflow.com/questions/20718315/how-to-find-a-missing-number-from-a-list/\n",
    "\n",
    "missing_id=list(chain.from_iterable((df_hits.id[i] + d for d in range(1, diff))\n",
    "                        for i, diff in enumerate(map(sub, df_hits.id[1:], df_hits.id))\n",
    "                        if diff > 1))\n",
    "print(\"There are \"+str(len(missing_id)) +\" ids missing:\\n\")\n",
    "print(missing_id)"
   ]
  },
  {
   "cell_type": "code",
   "execution_count": 6,
   "metadata": {
    "collapsed": true
   },
   "outputs": [],
   "source": [
    "#Dropping some columns that are not going to be used\n",
    "df_hits.drop([\"id\",\"fileName\",\"timeStamp\",\"user\",\"status\"],axis=1,inplace=True)"
   ]
  },
  {
   "cell_type": "code",
   "execution_count": 7,
   "metadata": {},
   "outputs": [
    {
     "data": {
      "text/plain": [
       "5    1200\n",
       "Name: imageName, dtype: int64"
      ]
     },
     "execution_count": 7,
     "metadata": {},
     "output_type": "execute_result"
    }
   ],
   "source": [
    "#Checking how many pictures are annotated\n",
    "df_hits[\"imageName\"].groupby(df_hits[\"imageName\"]).size().value_counts()"
   ]
  },
  {
   "cell_type": "code",
   "execution_count": 8,
   "metadata": {
    "collapsed": true
   },
   "outputs": [],
   "source": [
    "df_hits_scenes_count=pd.DataFrame()\n",
    "df_hits_scenes_count=df_hits[[\"as1\",\"as2\",\"as3\",\"as4\",\"as5\",\"as6\",\"as7\",\"as8\",\"as9\",\"as10\"]].replace({-1:0}).copy()\n",
    "df_hits_scenes_count[\"num_scenes\"]=df_hits_scenes_count.sum(axis=1)\n",
    "df_hits_scenes_count=df_hits_scenes_count.groupby(\"num_scenes\").size().reset_index(name='counts')"
   ]
  },
  {
   "cell_type": "code",
   "execution_count": 9,
   "metadata": {
    "collapsed": true
   },
   "outputs": [],
   "source": [
    "df_hits_scenes_count[\"percentage\"]=round(df_hits_scenes_count[\"counts\"]/len(df_hits)*100,2)"
   ]
  },
  {
   "cell_type": "code",
   "execution_count": 10,
   "metadata": {},
   "outputs": [
    {
     "data": {
      "text/html": [
       "<div>\n",
       "<style>\n",
       "    .dataframe thead tr:only-child th {\n",
       "        text-align: right;\n",
       "    }\n",
       "\n",
       "    .dataframe thead th {\n",
       "        text-align: left;\n",
       "    }\n",
       "\n",
       "    .dataframe tbody tr th {\n",
       "        vertical-align: top;\n",
       "    }\n",
       "</style>\n",
       "<table border=\"1\" class=\"dataframe\">\n",
       "  <thead>\n",
       "    <tr style=\"text-align: right;\">\n",
       "      <th></th>\n",
       "      <th>num_scenes</th>\n",
       "      <th>counts</th>\n",
       "      <th>percentage</th>\n",
       "    </tr>\n",
       "  </thead>\n",
       "  <tbody>\n",
       "    <tr>\n",
       "      <th>0</th>\n",
       "      <td>0</td>\n",
       "      <td>325</td>\n",
       "      <td>5.42</td>\n",
       "    </tr>\n",
       "    <tr>\n",
       "      <th>1</th>\n",
       "      <td>1</td>\n",
       "      <td>407</td>\n",
       "      <td>6.78</td>\n",
       "    </tr>\n",
       "    <tr>\n",
       "      <th>2</th>\n",
       "      <td>2</td>\n",
       "      <td>499</td>\n",
       "      <td>8.32</td>\n",
       "    </tr>\n",
       "    <tr>\n",
       "      <th>3</th>\n",
       "      <td>3</td>\n",
       "      <td>527</td>\n",
       "      <td>8.78</td>\n",
       "    </tr>\n",
       "    <tr>\n",
       "      <th>4</th>\n",
       "      <td>4</td>\n",
       "      <td>570</td>\n",
       "      <td>9.50</td>\n",
       "    </tr>\n",
       "    <tr>\n",
       "      <th>5</th>\n",
       "      <td>5</td>\n",
       "      <td>696</td>\n",
       "      <td>11.60</td>\n",
       "    </tr>\n",
       "    <tr>\n",
       "      <th>6</th>\n",
       "      <td>6</td>\n",
       "      <td>670</td>\n",
       "      <td>11.17</td>\n",
       "    </tr>\n",
       "    <tr>\n",
       "      <th>7</th>\n",
       "      <td>7</td>\n",
       "      <td>631</td>\n",
       "      <td>10.52</td>\n",
       "    </tr>\n",
       "    <tr>\n",
       "      <th>8</th>\n",
       "      <td>8</td>\n",
       "      <td>547</td>\n",
       "      <td>9.12</td>\n",
       "    </tr>\n",
       "    <tr>\n",
       "      <th>9</th>\n",
       "      <td>9</td>\n",
       "      <td>420</td>\n",
       "      <td>7.00</td>\n",
       "    </tr>\n",
       "    <tr>\n",
       "      <th>10</th>\n",
       "      <td>10</td>\n",
       "      <td>708</td>\n",
       "      <td>11.80</td>\n",
       "    </tr>\n",
       "  </tbody>\n",
       "</table>\n",
       "</div>"
      ],
      "text/plain": [
       "    num_scenes  counts  percentage\n",
       "0            0     325        5.42\n",
       "1            1     407        6.78\n",
       "2            2     499        8.32\n",
       "3            3     527        8.78\n",
       "4            4     570        9.50\n",
       "5            5     696       11.60\n",
       "6            6     670       11.17\n",
       "7            7     631       10.52\n",
       "8            8     547        9.12\n",
       "9            9     420        7.00\n",
       "10          10     708       11.80"
      ]
     },
     "execution_count": 10,
     "metadata": {},
     "output_type": "execute_result"
    }
   ],
   "source": [
    "df_hits_scenes_count"
   ]
  },
  {
   "cell_type": "code",
   "execution_count": 11,
   "metadata": {},
   "outputs": [
    {
     "data": {
      "text/plain": [
       "<matplotlib.axes._subplots.AxesSubplot at 0x115b0b668>"
      ]
     },
     "execution_count": 11,
     "metadata": {},
     "output_type": "execute_result"
    },
    {
     "data": {
      "image/png": "[encoded data removed]",
      "text/plain": [
       "<matplotlib.figure.Figure at 0x115b0bc88>"
      ]
     },
     "metadata": {},
     "output_type": "display_data"
    }
   ],
   "source": [
    "df_hits_scenes_count[\"counts\"].plot(x=\"num_scenes\",y=\"counts\",kind=\"bar\")"
   ]
  },
  {
   "cell_type": "code",
   "execution_count": 12,
   "metadata": {
    "collapsed": true
   },
   "outputs": [],
   "source": [
    "scene_answers_columns=[column for column in df_hits.columns.tolist() if column.startswith(\"as\")]\n",
    "scene_questions_columns=[column for column in df_hits.columns.tolist() if column.startswith(\"qs\")]"
   ]
  },
  {
   "cell_type": "code",
   "execution_count": 13,
   "metadata": {
    "scrolled": true
   },
   "outputs": [
    {
     "name": "stdout",
     "output_type": "stream",
     "text": [
      "Number of pictures for scene:\n",
      "\n",
      "VANDALISMO: 2917\n",
      "FALTA DE MANTENIMIENTO: 4189\n",
      "CASAS/EDIFICIOS SUCIOS: 3474\n",
      "BASURA: 2611\n",
      "MALA PLANEACION URBANA: 2988\n",
      "FALTA DE ELEMENTOD DE SEGURIDAD: 4581\n",
      "FALTA DE ILUMINACION: 3360\n",
      "VEGETACION DESCUIDADA: 2684\n",
      "CALLES DETERIORADAS: 3733\n",
      "ESPACIOS VALDIOS: 1882\n"
     ]
    }
   ],
   "source": [
    "scenes_count=[0,0,0,0,0,0,0,0,0,0]\n",
    "scenes=[\"VANDALISMO\",\"FALTA DE MANTENIMIENTO\",\"CASAS/EDIFICIOS SUCIOS\",\"BASURA\",\"MALA PLANEACION URBANA\",\n",
    "\"FALTA DE ELEMENTOD DE SEGURIDAD\",\"FALTA DE ILUMINACION\",\"VEGETACION DESCUIDADA\",\"CALLES DETERIORADAS\",\n",
    "\"ESPACIOS VALDIOS\"]\n",
    "\n",
    "for q_column,q_answer in zip(scene_questions_columns,scene_answers_columns):\n",
    "    for row in range(len(df_hits)):\n",
    "        if df_hits[q_answer][row]==1: scenes_count[df_hits[q_column][row]-1]+=1\n",
    "print(\"Number of pictures for scene:\\n\")\n",
    "for a, b in zip(scenes, scenes_count):\n",
    "    print(str(a)+\": \"+str(b))"
   ]
  },
  {
   "cell_type": "markdown",
   "metadata": {
    "collapsed": true
   },
   "source": [
    "## Annotations Quality"
   ]
  },
  {
   "cell_type": "code",
   "execution_count": 14,
   "metadata": {
    "collapsed": true
   },
   "outputs": [],
   "source": [
    "#Creating a new dataframe sorted by the name of each image\n",
    "df_hits_2=df_hits.sort_values(\"imageName\").reset_index(drop=True).copy()"
   ]
  },
  {
   "cell_type": "markdown",
   "metadata": {},
   "source": [
    "### Getting a new column per label"
   ]
  },
  {
   "cell_type": "markdown",
   "metadata": {},
   "source": [
    "#### Urban Awareness Labels (q/a)"
   ]
  },
  {
   "cell_type": "markdown",
   "metadata": {},
   "source": [
    "* label  q1 = Dangerous\n",
    "* label  q2 = Dirty          \n",
    "* label  q3 = Pretty          \n",
    "* label  q4 = Interesting                          \n",
    "* label  q5 = Polluted        \n",
    "* label  q6 = Pleasant"
   ]
  },
  {
   "cell_type": "code",
   "execution_count": 15,
   "metadata": {
    "collapsed": true
   },
   "outputs": [],
   "source": [
    "df_hits_2[\"Dangerous\"]=np.where(df_hits_2[\"q1\"]==1,df_hits_2[\"a1\"],np.where(df_hits_2[\"q2\"]==1,df_hits_2[\"a2\"],np.where(df_hits_2[\"q3\"]==1,df_hits_2[\"a3\"],np.where(df_hits_2[\"q4\"]==1,df_hits_2[\"a4\"],np.where(df_hits_2[\"q5\"]==1,df_hits_2[\"a5\"],np.where(df_hits_2[\"q6\"]==1,df_hits_2[\"a6\"],np.nan))))))\n",
    "df_hits_2[\"Dirty\"]=np.where(df_hits_2[\"q1\"]==2,df_hits_2[\"a1\"],np.where(df_hits_2[\"q2\"]==2,df_hits_2[\"a2\"],np.where(df_hits_2[\"q3\"]==2,df_hits_2[\"a3\"],np.where(df_hits_2[\"q4\"]==2,df_hits_2[\"a4\"],np.where(df_hits_2[\"q5\"]==2,df_hits_2[\"a5\"],np.where(df_hits_2[\"q6\"]==2,df_hits_2[\"a6\"],np.nan))))))\n",
    "df_hits_2[\"Pretty\"]=np.where(df_hits_2[\"q1\"]==3,df_hits_2[\"a1\"],np.where(df_hits_2[\"q2\"]==3,df_hits_2[\"a2\"],np.where(df_hits_2[\"q3\"]==3,df_hits_2[\"a3\"],np.where(df_hits_2[\"q4\"]==3,df_hits_2[\"a4\"],np.where(df_hits_2[\"q5\"]==3,df_hits_2[\"a5\"],np.where(df_hits_2[\"q6\"]==3,df_hits_2[\"a6\"],np.nan))))))\n",
    "df_hits_2[\"Interesting\"]=np.where(df_hits_2[\"q1\"]==4,df_hits_2[\"a1\"],np.where(df_hits_2[\"q2\"]==4,df_hits_2[\"a2\"],np.where(df_hits_2[\"q3\"]==4,df_hits_2[\"a3\"],np.where(df_hits_2[\"q4\"]==4,df_hits_2[\"a4\"],np.where(df_hits_2[\"q5\"]==4,df_hits_2[\"a5\"],np.where(df_hits_2[\"q6\"]==4,df_hits_2[\"a6\"],np.nan))))))\n",
    "df_hits_2[\"Polluted\"]=np.where(df_hits_2[\"q1\"]==5,df_hits_2[\"a1\"],np.where(df_hits_2[\"q2\"]==5,df_hits_2[\"a2\"],np.where(df_hits_2[\"q3\"]==5,df_hits_2[\"a3\"],np.where(df_hits_2[\"q4\"]==5,df_hits_2[\"a4\"],np.where(df_hits_2[\"q5\"]==5,df_hits_2[\"a5\"],np.where(df_hits_2[\"q6\"]==5,df_hits_2[\"a6\"],np.nan))))))\n",
    "df_hits_2[\"Pleasant\"]=np.where(df_hits_2[\"q1\"]==6,df_hits_2[\"a1\"],np.where(df_hits_2[\"q2\"]==6,df_hits_2[\"a2\"],np.where(df_hits_2[\"q3\"]==6,df_hits_2[\"a3\"],np.where(df_hits_2[\"q4\"]==6,df_hits_2[\"a4\"],np.where(df_hits_2[\"q5\"]==6,df_hits_2[\"a5\"],np.where(df_hits_2[\"q6\"]==6,df_hits_2[\"a6\"],np.nan))))))"
   ]
  },
  {
   "cell_type": "markdown",
   "metadata": {},
   "source": [
    "#### Scene (qs/as)"
   ]
  },
  {
   "cell_type": "markdown",
   "metadata": {},
   "source": [
    "* descriptor  s1 = VANDALISMO\n",
    "* descriptor  s2 = FALTA DE MANTENIMIENTO          \n",
    "* descriptor  s3 = CASAS/EDIFICIOS SUCIOS          \n",
    "* descriptor  s4 = BASURA                          \n",
    "* descriptor  s5 = MALA PLANEACION URBANA          \n",
    "* descriptor  s6 = FALTA DE ELEMENTOD DE SEGURIDAD \n",
    "* descriptor  s7 = FALTA DE ILUMINACION            \n",
    "* descriptor  s8 = VEGETACION DESCUIDADA           \n",
    "* descriptor  s9 = CALLES DETERIORADAS             \n",
    "* descriptor s10 = ESPACIOS VALDIOS  "
   ]
  },
  {
   "cell_type": "code",
   "execution_count": 16,
   "metadata": {
    "collapsed": true
   },
   "outputs": [],
   "source": [
    "def order_annotations_qs_as(df,descriptor):\n",
    "    one_list=np.where(df[\"qs1\"]==descriptor,df[\"as1\"],\n",
    "                            np.where(df[\"qs2\"]==descriptor,df[\"as2\"],\n",
    "                            np.where(df[\"qs3\"]==descriptor,df[\"as3\"],\n",
    "                            np.where(df[\"qs4\"]==descriptor,df[\"as4\"],\n",
    "                            np.where(df[\"qs5\"]==descriptor,df[\"as5\"],\n",
    "                            np.where(df[\"qs6\"]==descriptor,df[\"as6\"],\n",
    "                            np.where(df[\"qs7\"]==descriptor,df[\"as7\"],\n",
    "                            np.where(df[\"qs8\"]==descriptor,df[\"as8\"],\n",
    "                            np.where(df[\"qs9\"]==descriptor,df[\"as9\"],\n",
    "                            np.where(df[\"qs10\"]==descriptor,df[\"as10\"],\n",
    "                            -1))))))))))\n",
    "    return one_list"
   ]
  },
  {
   "cell_type": "code",
   "execution_count": 17,
   "metadata": {
    "collapsed": true
   },
   "outputs": [],
   "source": [
    "df_hits_2[\"s1\"]=order_annotations_qs_as(df_hits_2,1)\n",
    "df_hits_2[\"s2\"]=order_annotations_qs_as(df_hits_2,2)\n",
    "df_hits_2[\"s3\"]=order_annotations_qs_as(df_hits_2,3)\n",
    "df_hits_2[\"s4\"]=order_annotations_qs_as(df_hits_2,4)\n",
    "df_hits_2[\"s5\"]=order_annotations_qs_as(df_hits_2,5)\n",
    "df_hits_2[\"s6\"]=order_annotations_qs_as(df_hits_2,6)\n",
    "df_hits_2[\"s7\"]=order_annotations_qs_as(df_hits_2,7)\n",
    "df_hits_2[\"s8\"]=order_annotations_qs_as(df_hits_2,8)\n",
    "df_hits_2[\"s9\"]=order_annotations_qs_as(df_hits_2,9)\n",
    "df_hits_2[\"s10\"]=order_annotations_qs_as(df_hits_2,10)"
   ]
  },
  {
   "cell_type": "markdown",
   "metadata": {},
   "source": [
    "#### Labels and columns"
   ]
  },
  {
   "cell_type": "code",
   "execution_count": 18,
   "metadata": {
    "collapsed": true
   },
   "outputs": [],
   "source": [
    "labels=[\"Dangerous\",\"Dirty\",\"Pretty\",\"Interesting\",\"Polluted\",\"Pleasant\"]\n",
    "columns_q=[\"q\"+str(column) for column in range(1,7)]\n",
    "columns_a=[\"a\"+str(column) for column in range(1,7)]\n",
    "columns_qs=[\"qs\"+str(column) for column in range(1,11)]\n",
    "columns_as=[\"as\"+str(column) for column in range(1,11)]"
   ]
  },
  {
   "cell_type": "code",
   "execution_count": 19,
   "metadata": {
    "collapsed": true
   },
   "outputs": [],
   "source": [
    "df_hits_ordered=df_hits_2.drop(columns_q+columns_a+columns_qs+columns_as,axis=1).copy()"
   ]
  },
  {
   "cell_type": "code",
   "execution_count": 20,
   "metadata": {
    "collapsed": true
   },
   "outputs": [],
   "source": [
    "df_hits_ordered.replace(to_replace={-1:0},inplace=True)"
   ]
  },
  {
   "cell_type": "code",
   "execution_count": 21,
   "metadata": {
    "scrolled": true
   },
   "outputs": [
    {
     "data": {
      "text/html": [
       "<div>\n",
       "<style>\n",
       "    .dataframe thead tr:only-child th {\n",
       "        text-align: right;\n",
       "    }\n",
       "\n",
       "    .dataframe thead th {\n",
       "        text-align: left;\n",
       "    }\n",
       "\n",
       "    .dataframe tbody tr th {\n",
       "        vertical-align: top;\n",
       "    }\n",
       "</style>\n",
       "<table border=\"1\" class=\"dataframe\">\n",
       "  <thead>\n",
       "    <tr style=\"text-align: right;\">\n",
       "      <th></th>\n",
       "      <th>imageName</th>\n",
       "      <th>Dangerous</th>\n",
       "      <th>Dirty</th>\n",
       "      <th>Pretty</th>\n",
       "      <th>Interesting</th>\n",
       "      <th>Polluted</th>\n",
       "      <th>Pleasant</th>\n",
       "      <th>s1</th>\n",
       "      <th>s2</th>\n",
       "      <th>s3</th>\n",
       "      <th>s4</th>\n",
       "      <th>s5</th>\n",
       "      <th>s6</th>\n",
       "      <th>s7</th>\n",
       "      <th>s8</th>\n",
       "      <th>s9</th>\n",
       "      <th>s10</th>\n",
       "    </tr>\n",
       "  </thead>\n",
       "  <tbody>\n",
       "    <tr>\n",
       "      <th>0</th>\n",
       "      <td>s_20140101_125134.jpg</td>\n",
       "      <td>4.0</td>\n",
       "      <td>4.0</td>\n",
       "      <td>4.0</td>\n",
       "      <td>4.0</td>\n",
       "      <td>4.0</td>\n",
       "      <td>4.0</td>\n",
       "      <td>1</td>\n",
       "      <td>1</td>\n",
       "      <td>0</td>\n",
       "      <td>0</td>\n",
       "      <td>1</td>\n",
       "      <td>0</td>\n",
       "      <td>1</td>\n",
       "      <td>1</td>\n",
       "      <td>0</td>\n",
       "      <td>1</td>\n",
       "    </tr>\n",
       "    <tr>\n",
       "      <th>1</th>\n",
       "      <td>s_20140101_125134.jpg</td>\n",
       "      <td>4.0</td>\n",
       "      <td>4.0</td>\n",
       "      <td>4.0</td>\n",
       "      <td>4.0</td>\n",
       "      <td>4.0</td>\n",
       "      <td>4.0</td>\n",
       "      <td>0</td>\n",
       "      <td>0</td>\n",
       "      <td>0</td>\n",
       "      <td>0</td>\n",
       "      <td>0</td>\n",
       "      <td>0</td>\n",
       "      <td>0</td>\n",
       "      <td>0</td>\n",
       "      <td>0</td>\n",
       "      <td>0</td>\n",
       "    </tr>\n",
       "    <tr>\n",
       "      <th>2</th>\n",
       "      <td>s_20140101_125134.jpg</td>\n",
       "      <td>4.0</td>\n",
       "      <td>3.0</td>\n",
       "      <td>6.0</td>\n",
       "      <td>6.0</td>\n",
       "      <td>5.0</td>\n",
       "      <td>7.0</td>\n",
       "      <td>0</td>\n",
       "      <td>0</td>\n",
       "      <td>1</td>\n",
       "      <td>0</td>\n",
       "      <td>0</td>\n",
       "      <td>1</td>\n",
       "      <td>0</td>\n",
       "      <td>0</td>\n",
       "      <td>0</td>\n",
       "      <td>0</td>\n",
       "    </tr>\n",
       "    <tr>\n",
       "      <th>3</th>\n",
       "      <td>s_20140101_125134.jpg</td>\n",
       "      <td>3.0</td>\n",
       "      <td>2.0</td>\n",
       "      <td>2.0</td>\n",
       "      <td>2.0</td>\n",
       "      <td>2.0</td>\n",
       "      <td>2.0</td>\n",
       "      <td>1</td>\n",
       "      <td>0</td>\n",
       "      <td>0</td>\n",
       "      <td>0</td>\n",
       "      <td>0</td>\n",
       "      <td>0</td>\n",
       "      <td>1</td>\n",
       "      <td>0</td>\n",
       "      <td>0</td>\n",
       "      <td>0</td>\n",
       "    </tr>\n",
       "    <tr>\n",
       "      <th>4</th>\n",
       "      <td>s_20140101_125134.jpg</td>\n",
       "      <td>5.0</td>\n",
       "      <td>2.0</td>\n",
       "      <td>2.0</td>\n",
       "      <td>2.0</td>\n",
       "      <td>5.0</td>\n",
       "      <td>2.0</td>\n",
       "      <td>0</td>\n",
       "      <td>1</td>\n",
       "      <td>0</td>\n",
       "      <td>0</td>\n",
       "      <td>1</td>\n",
       "      <td>1</td>\n",
       "      <td>1</td>\n",
       "      <td>1</td>\n",
       "      <td>1</td>\n",
       "      <td>0</td>\n",
       "    </tr>\n",
       "  </tbody>\n",
       "</table>\n",
       "</div>"
      ],
      "text/plain": [
       "               imageName  Dangerous  Dirty  Pretty  Interesting  Polluted  \\\n",
       "0  s_20140101_125134.jpg        4.0    4.0     4.0          4.0       4.0   \n",
       "1  s_20140101_125134.jpg        4.0    4.0     4.0          4.0       4.0   \n",
       "2  s_20140101_125134.jpg        4.0    3.0     6.0          6.0       5.0   \n",
       "3  s_20140101_125134.jpg        3.0    2.0     2.0          2.0       2.0   \n",
       "4  s_20140101_125134.jpg        5.0    2.0     2.0          2.0       5.0   \n",
       "\n",
       "   Pleasant  s1  s2  s3  s4  s5  s6  s7  s8  s9  s10  \n",
       "0       4.0   1   1   0   0   1   0   1   1   0    1  \n",
       "1       4.0   0   0   0   0   0   0   0   0   0    0  \n",
       "2       7.0   0   0   1   0   0   1   0   0   0    0  \n",
       "3       2.0   1   0   0   0   0   0   1   0   0    0  \n",
       "4       2.0   0   1   0   0   1   1   1   1   1    0  "
      ]
     },
     "execution_count": 21,
     "metadata": {},
     "output_type": "execute_result"
    }
   ],
   "source": [
    "df_hits_ordered.head()"
   ]
  },
  {
   "cell_type": "markdown",
   "metadata": {},
   "source": [
    "### Grouping by image name and getting the individual rates for each label"
   ]
  },
  {
   "cell_type": "markdown",
   "metadata": {},
   "source": [
    "#### Getting the individual csv files that will be processed in R to get the ICC and Fleiss kappa"
   ]
  },
  {
   "cell_type": "code",
   "execution_count": 22,
   "metadata": {
    "collapsed": true
   },
   "outputs": [],
   "source": [
    "def get_DataFrame_label(df,label,image_column,num_raters):\n",
    "    #Grouping by the images\n",
    "    df_label=df.groupby(image_column,as_index=True).apply(lambda x: list(x[label])).reset_index()\n",
    "    df_label.rename(columns={0:\"list_rates\"},inplace=True)\n",
    "    #Getting rates\n",
    "    rates = [df_label, pd.DataFrame(df_label[\"list_rates\"].tolist()).iloc[:, :num_raters]]\n",
    "    #Getting each rating in a different column\n",
    "    df_label=pd.concat(rates, axis=1).drop([\"list_rates\"], axis=1)\n",
    "    #Renaming the columns\n",
    "    df_label.rename(columns={i:\"rater_\"+str(i+1) for i in range(0,num_raters)},inplace=True)\n",
    "    #df_label.to_csv(\"datasets/cecyte_annotations/cecyte_gto_hits_\"+str(label)+\".csv\",index=False)\n",
    "    #print(\"csv file generated in: \"+\"datasets/cecyte_annotations/cecyte_gto_hits_\"+str(label)+\".csv\")\n",
    "    df_label[\"median\"]=df_label.median(axis=1)\n",
    "    print(\"\\n\")\n",
    "    print(\"Value counts for median:\")\n",
    "    print(\"mean: \"+str(round(df_label[\"median\"].mean(),2)))\n",
    "    print(\"std: \"+str(round(df_label[\"median\"].std(),2)))\n",
    "    \n",
    "    return df_label"
   ]
  },
  {
   "cell_type": "code",
   "execution_count": 23,
   "metadata": {},
   "outputs": [
    {
     "name": "stdout",
     "output_type": "stream",
     "text": [
      "\n",
      "\n",
      "Value counts for median:\n",
      "mean: 3.78\n",
      "std: 1.45\n"
     ]
    }
   ],
   "source": [
    "#Label: Dangerous\n",
    "df_hits_dangerous=get_DataFrame_label(df=df_hits_ordered,label=\"Dangerous\",image_column=\"imageName\",num_raters=5)"
   ]
  },
  {
   "cell_type": "code",
   "execution_count": 24,
   "metadata": {},
   "outputs": [
    {
     "name": "stdout",
     "output_type": "stream",
     "text": [
      "\n",
      "\n",
      "Value counts for median:\n",
      "mean: 3.53\n",
      "std: 1.53\n"
     ]
    }
   ],
   "source": [
    "#Label: Dirty\n",
    "df_hits_dirty=get_DataFrame_label(df=df_hits_ordered,label=\"Dirty\",image_column=\"imageName\",num_raters=5)"
   ]
  },
  {
   "cell_type": "code",
   "execution_count": 25,
   "metadata": {},
   "outputs": [
    {
     "name": "stdout",
     "output_type": "stream",
     "text": [
      "\n",
      "\n",
      "Value counts for median:\n",
      "mean: 3.04\n",
      "std: 1.65\n"
     ]
    }
   ],
   "source": [
    "#Label: Pretty\n",
    "df_hits_pretty=get_DataFrame_label(df=df_hits_ordered,label=\"Pretty\",image_column=\"imageName\",num_raters=5)"
   ]
  },
  {
   "cell_type": "code",
   "execution_count": 26,
   "metadata": {},
   "outputs": [
    {
     "name": "stdout",
     "output_type": "stream",
     "text": [
      "\n",
      "\n",
      "Value counts for median:\n",
      "mean: 3.0\n",
      "std: 1.54\n"
     ]
    }
   ],
   "source": [
    "#Label: Interesting:\n",
    "df_hits_interesting=get_DataFrame_label(df=df_hits_ordered,label=\"Interesting\",image_column=\"imageName\",num_raters=5)"
   ]
  },
  {
   "cell_type": "code",
   "execution_count": 27,
   "metadata": {},
   "outputs": [
    {
     "name": "stdout",
     "output_type": "stream",
     "text": [
      "\n",
      "\n",
      "Value counts for median:\n",
      "mean: 3.39\n",
      "std: 1.38\n"
     ]
    }
   ],
   "source": [
    "#Label: Polluted\n",
    "df_hits_polluted=get_DataFrame_label(df=df_hits_ordered,label=\"Polluted\",image_column=\"imageName\",num_raters=5)"
   ]
  },
  {
   "cell_type": "code",
   "execution_count": 28,
   "metadata": {},
   "outputs": [
    {
     "name": "stdout",
     "output_type": "stream",
     "text": [
      "\n",
      "\n",
      "Value counts for median:\n",
      "mean: 3.08\n",
      "std: 1.58\n"
     ]
    }
   ],
   "source": [
    "#Label: Pleasant\n",
    "df_hits_pleasant=get_DataFrame_label(df=df_hits_ordered,label=\"Pleasant\",image_column=\"imageName\",num_raters=5)"
   ]
  },
  {
   "cell_type": "markdown",
   "metadata": {},
   "source": [
    "### Descriptors"
   ]
  },
  {
   "cell_type": "code",
   "execution_count": 29,
   "metadata": {
    "collapsed": true
   },
   "outputs": [],
   "source": [
    "def get_DataFrame_descriptor(df,descriptor,image_column,num_raters):\n",
    "    #Grouping by the images\n",
    "    df_descriptor=df.groupby(image_column,as_index=True).apply(lambda x: list(x[descriptor])).reset_index()\n",
    "    df_descriptor.rename(columns={0:\"list_rates\"},inplace=True)\n",
    "    #Getting rates\n",
    "    rates = [df_descriptor, pd.DataFrame(df_descriptor[\"list_rates\"].tolist()).iloc[:, :num_raters]]\n",
    "    #Getting each rating in a different column\n",
    "    df_descriptor=pd.concat(rates, axis=1).drop([\"list_rates\"], axis=1)\n",
    "    #Renaming the columns\n",
    "    df_descriptor.rename(columns={i:\"rater_\"+str(i+1) for i in range(0,num_raters)},inplace=True)\n",
    "    #df_descriptor.to_csv(\"datasets/cecyte_annotations/cecyte_gto_hits_\"+str(descriptor)+\".csv\",index=False)\n",
    "    #print(\"csv file generated in: \"+\"datasets/cecyte_annotations/cecyte_gto_hits_\"+str(descriptor)+\".csv\")\n",
    "    df_descriptor[\"mean\"]=df_descriptor.mean(axis=1)\n",
    "    df_descriptor[\"mode\"]=df_descriptor.drop(\"mean\",axis=1).mode(axis=1)\n",
    "    print(\"\\n\")\n",
    "    print(\"Value counts for mode:\")\n",
    "    print(df_descriptor[\"mode\"].value_counts())\n",
    "    print(\"\\n\")\n",
    "    print(\"Value counts for mean:\")\n",
    "    print(\"mean: \"+str(round(df_descriptor[\"mean\"].mean(),2)))\n",
    "    print(\"std: \"+str(round(df_descriptor[\"mean\"].std(),2)))\n",
    "    \n",
    "    return df_descriptor\n",
    "    "
   ]
  },
  {
   "cell_type": "code",
   "execution_count": 30,
   "metadata": {},
   "outputs": [
    {
     "name": "stdout",
     "output_type": "stream",
     "text": [
      "\n",
      "\n",
      "Value counts for mode:\n",
      "0    653\n",
      "1    547\n",
      "Name: mode, dtype: int64\n",
      "\n",
      "\n",
      "Value counts for mean:\n",
      "mean: 0.49\n",
      "std: 0.29\n"
     ]
    }
   ],
   "source": [
    "#Descriptor S1: Vandalismo\n",
    "df_hits_s1=get_DataFrame_descriptor(df=df_hits_ordered,descriptor=\"s1\",image_column=\"imageName\",num_raters=5)"
   ]
  },
  {
   "cell_type": "code",
   "execution_count": 31,
   "metadata": {},
   "outputs": [
    {
     "name": "stdout",
     "output_type": "stream",
     "text": [
      "\n",
      "\n",
      "Value counts for mode:\n",
      "1    940\n",
      "0    260\n",
      "Name: mode, dtype: int64\n",
      "\n",
      "\n",
      "Value counts for mean:\n",
      "mean: 0.7\n",
      "std: 0.26\n"
     ]
    }
   ],
   "source": [
    "#Descriptor S2: FALTA DE MANTENIMIENTO  \n",
    "df_hits_s2=get_DataFrame_descriptor(df=df_hits_ordered,descriptor=\"s2\",image_column=\"imageName\",num_raters=5)"
   ]
  },
  {
   "cell_type": "code",
   "execution_count": 32,
   "metadata": {},
   "outputs": [
    {
     "name": "stdout",
     "output_type": "stream",
     "text": [
      "\n",
      "\n",
      "Value counts for mode:\n",
      "1    744\n",
      "0    456\n",
      "Name: mode, dtype: int64\n",
      "\n",
      "\n",
      "Value counts for mean:\n",
      "mean: 0.58\n",
      "std: 0.28\n"
     ]
    }
   ],
   "source": [
    "#Descriptor S3: CASAS/EDIFICIOS SUCIOS\n",
    "df_hits_s3=get_DataFrame_descriptor(df=df_hits_ordered,descriptor=\"s3\",image_column=\"imageName\",num_raters=5)"
   ]
  },
  {
   "cell_type": "code",
   "execution_count": 33,
   "metadata": {},
   "outputs": [
    {
     "name": "stdout",
     "output_type": "stream",
     "text": [
      "\n",
      "\n",
      "Value counts for mode:\n",
      "0    722\n",
      "1    478\n",
      "Name: mode, dtype: int64\n",
      "\n",
      "\n",
      "Value counts for mean:\n",
      "mean: 0.44\n",
      "std: 0.27\n"
     ]
    }
   ],
   "source": [
    "#Descriptor S4: BASURA\n",
    "df_hits_s4=get_DataFrame_descriptor(df=df_hits_ordered,descriptor=\"s4\",image_column=\"imageName\",num_raters=5)"
   ]
  },
  {
   "cell_type": "code",
   "execution_count": 34,
   "metadata": {},
   "outputs": [
    {
     "name": "stdout",
     "output_type": "stream",
     "text": [
      "\n",
      "\n",
      "Value counts for mode:\n",
      "0    604\n",
      "1    596\n",
      "Name: mode, dtype: int64\n",
      "\n",
      "\n",
      "Value counts for mean:\n",
      "mean: 0.5\n",
      "std: 0.26\n"
     ]
    }
   ],
   "source": [
    "#Descriptor S5: MALA PLANEACION URBANA\n",
    "df_hits_s5=get_DataFrame_descriptor(df=df_hits_ordered,descriptor=\"s5\",image_column=\"imageName\",num_raters=5)"
   ]
  },
  {
   "cell_type": "code",
   "execution_count": 35,
   "metadata": {},
   "outputs": [
    {
     "name": "stdout",
     "output_type": "stream",
     "text": [
      "\n",
      "\n",
      "Value counts for mode:\n",
      "1    1059\n",
      "0     141\n",
      "Name: mode, dtype: int64\n",
      "\n",
      "\n",
      "Value counts for mean:\n",
      "mean: 0.76\n",
      "std: 0.21\n"
     ]
    }
   ],
   "source": [
    "#Descriptor S6: FALTA DE ELEMENTOD DE SEGURIDAD\n",
    "df_hits_s6=get_DataFrame_descriptor(df=df_hits_ordered,descriptor=\"s6\",image_column=\"imageName\",num_raters=5)"
   ]
  },
  {
   "cell_type": "code",
   "execution_count": 36,
   "metadata": {},
   "outputs": [
    {
     "name": "stdout",
     "output_type": "stream",
     "text": [
      "\n",
      "\n",
      "Value counts for mode:\n",
      "1    733\n",
      "0    467\n",
      "Name: mode, dtype: int64\n",
      "\n",
      "\n",
      "Value counts for mean:\n",
      "mean: 0.56\n",
      "std: 0.25\n"
     ]
    }
   ],
   "source": [
    "#Descriptor S7: FALTA DE ILUMINACION\n",
    "df_hits_s7=get_DataFrame_descriptor(df=df_hits_ordered,descriptor=\"s7\",image_column=\"imageName\",num_raters=5)"
   ]
  },
  {
   "cell_type": "code",
   "execution_count": 37,
   "metadata": {},
   "outputs": [
    {
     "name": "stdout",
     "output_type": "stream",
     "text": [
      "\n",
      "\n",
      "Value counts for mode:\n",
      "0    691\n",
      "1    509\n",
      "Name: mode, dtype: int64\n",
      "\n",
      "\n",
      "Value counts for mean:\n",
      "mean: 0.45\n",
      "std: 0.24\n"
     ]
    }
   ],
   "source": [
    "#Descriptor S8: VEGETACION DESCUIDADA\n",
    "df_hits_s8=get_DataFrame_descriptor(df=df_hits_ordered,descriptor=\"s8\",image_column=\"imageName\",num_raters=5)"
   ]
  },
  {
   "cell_type": "code",
   "execution_count": 38,
   "metadata": {},
   "outputs": [
    {
     "name": "stdout",
     "output_type": "stream",
     "text": [
      "\n",
      "\n",
      "Value counts for mode:\n",
      "1    814\n",
      "0    386\n",
      "Name: mode, dtype: int64\n",
      "\n",
      "\n",
      "Value counts for mean:\n",
      "mean: 0.62\n",
      "std: 0.28\n"
     ]
    }
   ],
   "source": [
    "#Descriptor S9: CALLES DETERIORADAS\n",
    "df_hits_s9=get_DataFrame_descriptor(df=df_hits_ordered,descriptor=\"s9\",image_column=\"imageName\",num_raters=5)"
   ]
  },
  {
   "cell_type": "code",
   "execution_count": 39,
   "metadata": {},
   "outputs": [
    {
     "name": "stdout",
     "output_type": "stream",
     "text": [
      "\n",
      "\n",
      "Value counts for mode:\n",
      "0    961\n",
      "1    239\n",
      "Name: mode, dtype: int64\n",
      "\n",
      "\n",
      "Value counts for mean:\n",
      "mean: 0.31\n",
      "std: 0.23\n"
     ]
    }
   ],
   "source": [
    "#Descriptor S10: ESPACIOS VALDIOS \n",
    "df_hits_s10=get_DataFrame_descriptor(df=df_hits_ordered,descriptor=\"s10\",image_column=\"imageName\",num_raters=5)"
   ]
  },
  {
   "cell_type": "markdown",
   "metadata": {},
   "source": [
    "## Generating one Consolidated DataFrame"
   ]
  },
  {
   "cell_type": "markdown",
   "metadata": {},
   "source": [
    "### Urban Awareness labels: median score between raters "
   ]
  },
  {
   "cell_type": "code",
   "execution_count": 40,
   "metadata": {
    "collapsed": true
   },
   "outputs": [],
   "source": [
    "df_cecyte_all_labels=pd.DataFrame()\n",
    "df_cecyte_all_labels[\"imageName\"]=df_hits_dangerous[\"imageName\"].copy()\n",
    "\n",
    "#Dangerous\n",
    "df_cecyte_all_labels=pd.merge(df_cecyte_all_labels,df_hits_dangerous[[\"imageName\",\"median\"]],\n",
    "                              how=\"inner\",on=\"imageName\").rename(columns={\"median\":\"Dangerous\"})\n",
    "#Dirty\n",
    "df_cecyte_all_labels=pd.merge(df_cecyte_all_labels,df_hits_dirty[[\"imageName\",\"median\"]],\n",
    "                              how=\"inner\",on=\"imageName\").rename(columns={\"median\":\"Dirty\"})\n",
    "#Pretty\n",
    "df_cecyte_all_labels=pd.merge(df_cecyte_all_labels,df_hits_pretty[[\"imageName\",\"median\"]],\n",
    "                              how=\"inner\",on=\"imageName\").rename(columns={\"median\":\"Pretty\"})\n",
    "#Interesting\n",
    "df_cecyte_all_labels=pd.merge(df_cecyte_all_labels,df_hits_interesting[[\"imageName\",\"median\"]],\n",
    "                              how=\"inner\",on=\"imageName\").rename(columns={\"median\":\"Interesting\"})\n",
    "#Polluted\n",
    "df_cecyte_all_labels=pd.merge(df_cecyte_all_labels,df_hits_polluted[[\"imageName\",\"median\"]],\n",
    "                              how=\"inner\",on=\"imageName\").rename(columns={\"median\":\"Polluted\"})\n",
    "#Pleasant\n",
    "df_cecyte_all_labels=pd.merge(df_cecyte_all_labels,df_hits_pleasant[[\"imageName\",\"median\"]],\n",
    "                              how=\"inner\",on=\"imageName\").rename(columns={\"median\":\"Pleasant\"})"
   ]
  },
  {
   "cell_type": "code",
   "execution_count": 41,
   "metadata": {
    "scrolled": true
   },
   "outputs": [
    {
     "data": {
      "text/html": [
       "<div>\n",
       "<style>\n",
       "    .dataframe thead tr:only-child th {\n",
       "        text-align: right;\n",
       "    }\n",
       "\n",
       "    .dataframe thead th {\n",
       "        text-align: left;\n",
       "    }\n",
       "\n",
       "    .dataframe tbody tr th {\n",
       "        vertical-align: top;\n",
       "    }\n",
       "</style>\n",
       "<table border=\"1\" class=\"dataframe\">\n",
       "  <thead>\n",
       "    <tr style=\"text-align: right;\">\n",
       "      <th></th>\n",
       "      <th>imageName</th>\n",
       "      <th>Dangerous</th>\n",
       "      <th>Dirty</th>\n",
       "      <th>Pretty</th>\n",
       "      <th>Interesting</th>\n",
       "      <th>Polluted</th>\n",
       "      <th>Pleasant</th>\n",
       "    </tr>\n",
       "  </thead>\n",
       "  <tbody>\n",
       "    <tr>\n",
       "      <th>0</th>\n",
       "      <td>s_20140101_125134.jpg</td>\n",
       "      <td>4.0</td>\n",
       "      <td>3.0</td>\n",
       "      <td>4.0</td>\n",
       "      <td>4.0</td>\n",
       "      <td>4.0</td>\n",
       "      <td>4.0</td>\n",
       "    </tr>\n",
       "    <tr>\n",
       "      <th>1</th>\n",
       "      <td>s_20140101_125419.jpg</td>\n",
       "      <td>1.0</td>\n",
       "      <td>1.0</td>\n",
       "      <td>5.0</td>\n",
       "      <td>4.0</td>\n",
       "      <td>2.0</td>\n",
       "      <td>4.0</td>\n",
       "    </tr>\n",
       "    <tr>\n",
       "      <th>2</th>\n",
       "      <td>s_20140101_125819.jpg</td>\n",
       "      <td>1.0</td>\n",
       "      <td>1.0</td>\n",
       "      <td>7.0</td>\n",
       "      <td>7.0</td>\n",
       "      <td>1.0</td>\n",
       "      <td>6.0</td>\n",
       "    </tr>\n",
       "    <tr>\n",
       "      <th>3</th>\n",
       "      <td>s_20140101_125835.jpg</td>\n",
       "      <td>4.0</td>\n",
       "      <td>6.0</td>\n",
       "      <td>7.0</td>\n",
       "      <td>4.0</td>\n",
       "      <td>6.0</td>\n",
       "      <td>7.0</td>\n",
       "    </tr>\n",
       "    <tr>\n",
       "      <th>4</th>\n",
       "      <td>s_20140101_125939.jpg</td>\n",
       "      <td>2.0</td>\n",
       "      <td>3.0</td>\n",
       "      <td>2.0</td>\n",
       "      <td>2.0</td>\n",
       "      <td>2.0</td>\n",
       "      <td>4.0</td>\n",
       "    </tr>\n",
       "  </tbody>\n",
       "</table>\n",
       "</div>"
      ],
      "text/plain": [
       "               imageName  Dangerous  Dirty  Pretty  Interesting  Polluted  \\\n",
       "0  s_20140101_125134.jpg        4.0    3.0     4.0          4.0       4.0   \n",
       "1  s_20140101_125419.jpg        1.0    1.0     5.0          4.0       2.0   \n",
       "2  s_20140101_125819.jpg        1.0    1.0     7.0          7.0       1.0   \n",
       "3  s_20140101_125835.jpg        4.0    6.0     7.0          4.0       6.0   \n",
       "4  s_20140101_125939.jpg        2.0    3.0     2.0          2.0       2.0   \n",
       "\n",
       "   Pleasant  \n",
       "0       4.0  \n",
       "1       4.0  \n",
       "2       6.0  \n",
       "3       7.0  \n",
       "4       4.0  "
      ]
     },
     "execution_count": 41,
     "metadata": {},
     "output_type": "execute_result"
    }
   ],
   "source": [
    "df_cecyte_all_labels.head()"
   ]
  },
  {
   "cell_type": "raw",
   "metadata": {
    "collapsed": true
   },
   "source": [
    "df_cecyte_all_labels.to_csv(\"datasets/cecyte_all_places_six_labels.csv\",index=False)"
   ]
  },
  {
   "cell_type": "markdown",
   "metadata": {},
   "source": [
    "### Descriptors: mode between raters"
   ]
  },
  {
   "cell_type": "code",
   "execution_count": 42,
   "metadata": {
    "collapsed": true
   },
   "outputs": [],
   "source": [
    "df_cecyte_all_descriptors=pd.DataFrame()\n",
    "df_cecyte_all_descriptors[\"imageName\"]=df_hits_s1[\"imageName\"].copy()\n",
    "#S1\n",
    "df_cecyte_all_descriptors=pd.merge(df_cecyte_all_descriptors,df_hits_s1[[\"imageName\",\"mode\"]],\n",
    "                              how=\"inner\",on=\"imageName\").rename(columns={\"mode\":\"s1\"})\n",
    "#S2\n",
    "df_cecyte_all_descriptors=pd.merge(df_cecyte_all_descriptors,df_hits_s2[[\"imageName\",\"mode\"]],\n",
    "                              how=\"inner\",on=\"imageName\").rename(columns={\"mode\":\"s2\"})\n",
    "#S3\n",
    "df_cecyte_all_descriptors=pd.merge(df_cecyte_all_descriptors,df_hits_s3[[\"imageName\",\"mode\"]],\n",
    "                              how=\"inner\",on=\"imageName\").rename(columns={\"mode\":\"s3\"})\n",
    "#S4\n",
    "df_cecyte_all_descriptors=pd.merge(df_cecyte_all_descriptors,df_hits_s4[[\"imageName\",\"mode\"]],\n",
    "                              how=\"inner\",on=\"imageName\").rename(columns={\"mode\":\"s4\"})\n",
    "#S5\n",
    "df_cecyte_all_descriptors=pd.merge(df_cecyte_all_descriptors,df_hits_s5[[\"imageName\",\"mode\"]],\n",
    "                              how=\"inner\",on=\"imageName\").rename(columns={\"mode\":\"s5\"})\n",
    "#S6\n",
    "df_cecyte_all_descriptors=pd.merge(df_cecyte_all_descriptors,df_hits_s6[[\"imageName\",\"mode\"]],\n",
    "                              how=\"inner\",on=\"imageName\").rename(columns={\"mode\":\"s6\"})\n",
    "#S7\n",
    "df_cecyte_all_descriptors=pd.merge(df_cecyte_all_descriptors,df_hits_s7[[\"imageName\",\"mode\"]],\n",
    "                              how=\"inner\",on=\"imageName\").rename(columns={\"mode\":\"s7\"})\n",
    "#S8\n",
    "df_cecyte_all_descriptors=pd.merge(df_cecyte_all_descriptors,df_hits_s8[[\"imageName\",\"mode\"]],\n",
    "                              how=\"inner\",on=\"imageName\").rename(columns={\"mode\":\"s8\"})\n",
    "#S9\n",
    "df_cecyte_all_descriptors=pd.merge(df_cecyte_all_descriptors,df_hits_s9[[\"imageName\",\"mode\"]],\n",
    "                              how=\"inner\",on=\"imageName\").rename(columns={\"mode\":\"s9\"})\n",
    "#S10\n",
    "df_cecyte_all_descriptors=pd.merge(df_cecyte_all_descriptors,df_hits_s10[[\"imageName\",\"mode\"]],\n",
    "                              how=\"inner\",on=\"imageName\").rename(columns={\"mode\":\"s10\"})"
   ]
  },
  {
   "cell_type": "code",
   "execution_count": 43,
   "metadata": {
    "collapsed": true
   },
   "outputs": [],
   "source": [
    "df_cecyte_all_descriptors_mode=df_cecyte_all_descriptors.copy()"
   ]
  },
  {
   "cell_type": "code",
   "execution_count": 44,
   "metadata": {
    "scrolled": true
   },
   "outputs": [
    {
     "data": {
      "text/html": [
       "<div>\n",
       "<style>\n",
       "    .dataframe thead tr:only-child th {\n",
       "        text-align: right;\n",
       "    }\n",
       "\n",
       "    .dataframe thead th {\n",
       "        text-align: left;\n",
       "    }\n",
       "\n",
       "    .dataframe tbody tr th {\n",
       "        vertical-align: top;\n",
       "    }\n",
       "</style>\n",
       "<table border=\"1\" class=\"dataframe\">\n",
       "  <thead>\n",
       "    <tr style=\"text-align: right;\">\n",
       "      <th></th>\n",
       "      <th>imageName</th>\n",
       "      <th>s1</th>\n",
       "      <th>s2</th>\n",
       "      <th>s3</th>\n",
       "      <th>s4</th>\n",
       "      <th>s5</th>\n",
       "      <th>s6</th>\n",
       "      <th>s7</th>\n",
       "      <th>s8</th>\n",
       "      <th>s9</th>\n",
       "      <th>s10</th>\n",
       "    </tr>\n",
       "  </thead>\n",
       "  <tbody>\n",
       "    <tr>\n",
       "      <th>0</th>\n",
       "      <td>s_20140101_125134.jpg</td>\n",
       "      <td>0</td>\n",
       "      <td>0</td>\n",
       "      <td>0</td>\n",
       "      <td>0</td>\n",
       "      <td>0</td>\n",
       "      <td>0</td>\n",
       "      <td>1</td>\n",
       "      <td>0</td>\n",
       "      <td>0</td>\n",
       "      <td>0</td>\n",
       "    </tr>\n",
       "    <tr>\n",
       "      <th>1</th>\n",
       "      <td>s_20140101_125419.jpg</td>\n",
       "      <td>0</td>\n",
       "      <td>1</td>\n",
       "      <td>0</td>\n",
       "      <td>0</td>\n",
       "      <td>0</td>\n",
       "      <td>1</td>\n",
       "      <td>0</td>\n",
       "      <td>0</td>\n",
       "      <td>0</td>\n",
       "      <td>0</td>\n",
       "    </tr>\n",
       "    <tr>\n",
       "      <th>2</th>\n",
       "      <td>s_20140101_125819.jpg</td>\n",
       "      <td>0</td>\n",
       "      <td>0</td>\n",
       "      <td>0</td>\n",
       "      <td>0</td>\n",
       "      <td>0</td>\n",
       "      <td>0</td>\n",
       "      <td>0</td>\n",
       "      <td>0</td>\n",
       "      <td>0</td>\n",
       "      <td>0</td>\n",
       "    </tr>\n",
       "    <tr>\n",
       "      <th>3</th>\n",
       "      <td>s_20140101_125835.jpg</td>\n",
       "      <td>0</td>\n",
       "      <td>1</td>\n",
       "      <td>1</td>\n",
       "      <td>1</td>\n",
       "      <td>0</td>\n",
       "      <td>1</td>\n",
       "      <td>0</td>\n",
       "      <td>0</td>\n",
       "      <td>1</td>\n",
       "      <td>0</td>\n",
       "    </tr>\n",
       "    <tr>\n",
       "      <th>4</th>\n",
       "      <td>s_20140101_125939.jpg</td>\n",
       "      <td>0</td>\n",
       "      <td>0</td>\n",
       "      <td>1</td>\n",
       "      <td>0</td>\n",
       "      <td>0</td>\n",
       "      <td>0</td>\n",
       "      <td>0</td>\n",
       "      <td>0</td>\n",
       "      <td>0</td>\n",
       "      <td>0</td>\n",
       "    </tr>\n",
       "  </tbody>\n",
       "</table>\n",
       "</div>"
      ],
      "text/plain": [
       "               imageName  s1  s2  s3  s4  s5  s6  s7  s8  s9  s10\n",
       "0  s_20140101_125134.jpg   0   0   0   0   0   0   1   0   0    0\n",
       "1  s_20140101_125419.jpg   0   1   0   0   0   1   0   0   0    0\n",
       "2  s_20140101_125819.jpg   0   0   0   0   0   0   0   0   0    0\n",
       "3  s_20140101_125835.jpg   0   1   1   1   0   1   0   0   1    0\n",
       "4  s_20140101_125939.jpg   0   0   1   0   0   0   0   0   0    0"
      ]
     },
     "execution_count": 44,
     "metadata": {},
     "output_type": "execute_result"
    }
   ],
   "source": [
    "df_cecyte_all_descriptors_mode.head()"
   ]
  },
  {
   "cell_type": "raw",
   "metadata": {
    "collapsed": true
   },
   "source": [
    "df_cecyte_all_descriptors_mode.to_csv(\"datasets/cecyte_all_places_descriptors_mode.csv\",index=False)"
   ]
  },
  {
   "cell_type": "code",
   "execution_count": 45,
   "metadata": {
    "collapsed": true
   },
   "outputs": [],
   "source": [
    "df_descriptors_mode=pd.DataFrame()"
   ]
  },
  {
   "cell_type": "code",
   "execution_count": 46,
   "metadata": {
    "collapsed": true
   },
   "outputs": [],
   "source": [
    "descr_mode_sum=[]\n",
    "for i in range(0,10):\n",
    "    descr_mode_sum.append(df_cecyte_all_descriptors[\"s\"+str(i+1)].sum())\n",
    "descriptors_=[\"s\"+str(i+1) for i in range(0,10)]\n",
    "\n",
    "df_descriptors_mode=pd.DataFrame([descriptors_,descr_mode_sum]).transpose().rename(columns={0:\"descriptor\",1:\"frequency\"})"
   ]
  },
  {
   "cell_type": "code",
   "execution_count": 47,
   "metadata": {
    "collapsed": true
   },
   "outputs": [],
   "source": [
    "def get_int(x):\n",
    "    x=int(x)\n",
    "    return x\n",
    "df_descriptors_mode[\"frequency\"]=df_descriptors_mode.frequency.apply(get_int)"
   ]
  },
  {
   "cell_type": "code",
   "execution_count": 48,
   "metadata": {
    "collapsed": true
   },
   "outputs": [],
   "source": [
    "df_descriptors_mode.index=df_descriptors_mode.descriptor"
   ]
  },
  {
   "cell_type": "code",
   "execution_count": 49,
   "metadata": {},
   "outputs": [
    {
     "data": {
      "image/png": "[encoded data removed]",
      "text/plain": [
       "<matplotlib.figure.Figure at 0x115a26f28>"
      ]
     },
     "metadata": {},
     "output_type": "display_data"
    }
   ],
   "source": [
    "df_descriptors_mode.plot(kind=\"bar\",rot=0,legend=False,grid=\"on\")\n",
    "plt.ylabel(\"frequency\")\n",
    "plt.xlabel(\"descriptors\")\n",
    "plt.savefig('plots/descriptors_distribution_mode.jpg',dpi=900)"
   ]
  },
  {
   "cell_type": "markdown",
   "metadata": {},
   "source": [
    "### Descriptors: mean between raters"
   ]
  },
  {
   "cell_type": "code",
   "execution_count": 50,
   "metadata": {
    "collapsed": true
   },
   "outputs": [],
   "source": [
    "df_cecyte_all_descriptors=pd.DataFrame()\n",
    "df_cecyte_all_descriptors[\"imageName\"]=df_hits_s1[\"imageName\"].copy()\n",
    "#S1\n",
    "df_cecyte_all_descriptors=pd.merge(df_cecyte_all_descriptors,df_hits_s1[[\"imageName\",\"mean\"]],\n",
    "                              how=\"inner\",on=\"imageName\").rename(columns={\"mean\":\"s1\"})\n",
    "#S2\n",
    "df_cecyte_all_descriptors=pd.merge(df_cecyte_all_descriptors,df_hits_s2[[\"imageName\",\"mean\"]],\n",
    "                              how=\"inner\",on=\"imageName\").rename(columns={\"mean\":\"s2\"})\n",
    "#S3\n",
    "df_cecyte_all_descriptors=pd.merge(df_cecyte_all_descriptors,df_hits_s3[[\"imageName\",\"mean\"]],\n",
    "                              how=\"inner\",on=\"imageName\").rename(columns={\"mean\":\"s3\"})\n",
    "#S4\n",
    "df_cecyte_all_descriptors=pd.merge(df_cecyte_all_descriptors,df_hits_s4[[\"imageName\",\"mean\"]],\n",
    "                              how=\"inner\",on=\"imageName\").rename(columns={\"mean\":\"s4\"})\n",
    "#S5\n",
    "df_cecyte_all_descriptors=pd.merge(df_cecyte_all_descriptors,df_hits_s5[[\"imageName\",\"mean\"]],\n",
    "                              how=\"inner\",on=\"imageName\").rename(columns={\"mean\":\"s5\"})\n",
    "#S6\n",
    "df_cecyte_all_descriptors=pd.merge(df_cecyte_all_descriptors,df_hits_s6[[\"imageName\",\"mean\"]],\n",
    "                              how=\"inner\",on=\"imageName\").rename(columns={\"mean\":\"s6\"})\n",
    "#S7\n",
    "df_cecyte_all_descriptors=pd.merge(df_cecyte_all_descriptors,df_hits_s7[[\"imageName\",\"mean\"]],\n",
    "                              how=\"inner\",on=\"imageName\").rename(columns={\"mean\":\"s7\"})\n",
    "#S8\n",
    "df_cecyte_all_descriptors=pd.merge(df_cecyte_all_descriptors,df_hits_s8[[\"imageName\",\"mean\"]],\n",
    "                              how=\"inner\",on=\"imageName\").rename(columns={\"mean\":\"s8\"})\n",
    "#S9\n",
    "df_cecyte_all_descriptors=pd.merge(df_cecyte_all_descriptors,df_hits_s9[[\"imageName\",\"mean\"]],\n",
    "                              how=\"inner\",on=\"imageName\").rename(columns={\"mean\":\"s9\"})\n",
    "#S10\n",
    "df_cecyte_all_descriptors=pd.merge(df_cecyte_all_descriptors,df_hits_s10[[\"imageName\",\"mean\"]],\n",
    "                              how=\"inner\",on=\"imageName\").rename(columns={\"mean\":\"s10\"})"
   ]
  },
  {
   "cell_type": "code",
   "execution_count": 51,
   "metadata": {},
   "outputs": [
    {
     "data": {
      "text/html": [
       "<div>\n",
       "<style>\n",
       "    .dataframe thead tr:only-child th {\n",
       "        text-align: right;\n",
       "    }\n",
       "\n",
       "    .dataframe thead th {\n",
       "        text-align: left;\n",
       "    }\n",
       "\n",
       "    .dataframe tbody tr th {\n",
       "        vertical-align: top;\n",
       "    }\n",
       "</style>\n",
       "<table border=\"1\" class=\"dataframe\">\n",
       "  <thead>\n",
       "    <tr style=\"text-align: right;\">\n",
       "      <th></th>\n",
       "      <th>imageName</th>\n",
       "      <th>s1</th>\n",
       "      <th>s2</th>\n",
       "      <th>s3</th>\n",
       "      <th>s4</th>\n",
       "      <th>s5</th>\n",
       "      <th>s6</th>\n",
       "      <th>s7</th>\n",
       "      <th>s8</th>\n",
       "      <th>s9</th>\n",
       "      <th>s10</th>\n",
       "    </tr>\n",
       "  </thead>\n",
       "  <tbody>\n",
       "    <tr>\n",
       "      <th>0</th>\n",
       "      <td>s_20140101_125134.jpg</td>\n",
       "      <td>0.4</td>\n",
       "      <td>0.4</td>\n",
       "      <td>0.2</td>\n",
       "      <td>0.0</td>\n",
       "      <td>0.4</td>\n",
       "      <td>0.4</td>\n",
       "      <td>0.6</td>\n",
       "      <td>0.4</td>\n",
       "      <td>0.2</td>\n",
       "      <td>0.2</td>\n",
       "    </tr>\n",
       "    <tr>\n",
       "      <th>1</th>\n",
       "      <td>s_20140101_125419.jpg</td>\n",
       "      <td>0.4</td>\n",
       "      <td>1.0</td>\n",
       "      <td>0.4</td>\n",
       "      <td>0.0</td>\n",
       "      <td>0.0</td>\n",
       "      <td>0.8</td>\n",
       "      <td>0.2</td>\n",
       "      <td>0.0</td>\n",
       "      <td>0.4</td>\n",
       "      <td>0.0</td>\n",
       "    </tr>\n",
       "    <tr>\n",
       "      <th>2</th>\n",
       "      <td>s_20140101_125819.jpg</td>\n",
       "      <td>0.2</td>\n",
       "      <td>0.4</td>\n",
       "      <td>0.2</td>\n",
       "      <td>0.0</td>\n",
       "      <td>0.0</td>\n",
       "      <td>0.4</td>\n",
       "      <td>0.0</td>\n",
       "      <td>0.2</td>\n",
       "      <td>0.2</td>\n",
       "      <td>0.0</td>\n",
       "    </tr>\n",
       "    <tr>\n",
       "      <th>3</th>\n",
       "      <td>s_20140101_125835.jpg</td>\n",
       "      <td>0.2</td>\n",
       "      <td>0.8</td>\n",
       "      <td>0.6</td>\n",
       "      <td>0.6</td>\n",
       "      <td>0.2</td>\n",
       "      <td>0.8</td>\n",
       "      <td>0.4</td>\n",
       "      <td>0.2</td>\n",
       "      <td>0.6</td>\n",
       "      <td>0.0</td>\n",
       "    </tr>\n",
       "    <tr>\n",
       "      <th>4</th>\n",
       "      <td>s_20140101_125939.jpg</td>\n",
       "      <td>0.0</td>\n",
       "      <td>0.4</td>\n",
       "      <td>0.6</td>\n",
       "      <td>0.0</td>\n",
       "      <td>0.4</td>\n",
       "      <td>0.4</td>\n",
       "      <td>0.2</td>\n",
       "      <td>0.4</td>\n",
       "      <td>0.2</td>\n",
       "      <td>0.0</td>\n",
       "    </tr>\n",
       "  </tbody>\n",
       "</table>\n",
       "</div>"
      ],
      "text/plain": [
       "               imageName   s1   s2   s3   s4   s5   s6   s7   s8   s9  s10\n",
       "0  s_20140101_125134.jpg  0.4  0.4  0.2  0.0  0.4  0.4  0.6  0.4  0.2  0.2\n",
       "1  s_20140101_125419.jpg  0.4  1.0  0.4  0.0  0.0  0.8  0.2  0.0  0.4  0.0\n",
       "2  s_20140101_125819.jpg  0.2  0.4  0.2  0.0  0.0  0.4  0.0  0.2  0.2  0.0\n",
       "3  s_20140101_125835.jpg  0.2  0.8  0.6  0.6  0.2  0.8  0.4  0.2  0.6  0.0\n",
       "4  s_20140101_125939.jpg  0.0  0.4  0.6  0.0  0.4  0.4  0.2  0.4  0.2  0.0"
      ]
     },
     "execution_count": 51,
     "metadata": {},
     "output_type": "execute_result"
    }
   ],
   "source": [
    "df_cecyte_all_descriptors.head()"
   ]
  },
  {
   "cell_type": "raw",
   "metadata": {
    "collapsed": true
   },
   "source": [
    "df_cecyte_all_descriptors.to_csv(\"datasets/cecyte_all_places_descriptors_mean.csv\",index=False)"
   ]
  },
  {
   "cell_type": "markdown",
   "metadata": {},
   "source": [
    "# Correlation - CECYTE data"
   ]
  },
  {
   "cell_type": "code",
   "execution_count": 52,
   "metadata": {
    "collapsed": true
   },
   "outputs": [],
   "source": [
    "labels_ordered=['Dangerous', 'Dirty', 'Polluted', 'Interesting', 'Pretty', 'Pleasant']"
   ]
  },
  {
   "cell_type": "code",
   "execution_count": 53,
   "metadata": {
    "collapsed": true
   },
   "outputs": [],
   "source": [
    "df_cecyte_labels_corr=df_cecyte_all_labels.copy()\n",
    "df_cecyte_labels_corr.drop([\"imageName\"],axis=1,inplace=True)\n",
    "df_cecyte_labels_corr=df_cecyte_labels_corr[labels_ordered]"
   ]
  },
  {
   "cell_type": "code",
   "execution_count": 54,
   "metadata": {},
   "outputs": [
    {
     "data": {
      "text/html": [
       "<div>\n",
       "<style>\n",
       "    .dataframe thead tr:only-child th {\n",
       "        text-align: right;\n",
       "    }\n",
       "\n",
       "    .dataframe thead th {\n",
       "        text-align: left;\n",
       "    }\n",
       "\n",
       "    .dataframe tbody tr th {\n",
       "        vertical-align: top;\n",
       "    }\n",
       "</style>\n",
       "<table border=\"1\" class=\"dataframe\">\n",
       "  <thead>\n",
       "    <tr style=\"text-align: right;\">\n",
       "      <th></th>\n",
       "      <th>Dangerous</th>\n",
       "      <th>Dirty</th>\n",
       "      <th>Polluted</th>\n",
       "      <th>Interesting</th>\n",
       "      <th>Pretty</th>\n",
       "      <th>Pleasant</th>\n",
       "    </tr>\n",
       "  </thead>\n",
       "  <tbody>\n",
       "    <tr>\n",
       "      <th>Dangerous</th>\n",
       "      <td>1.000000</td>\n",
       "      <td>0.538669</td>\n",
       "      <td>0.546328</td>\n",
       "      <td>-0.230955</td>\n",
       "      <td>-0.311456</td>\n",
       "      <td>-0.282525</td>\n",
       "    </tr>\n",
       "    <tr>\n",
       "      <th>Dirty</th>\n",
       "      <td>0.538669</td>\n",
       "      <td>1.000000</td>\n",
       "      <td>0.659793</td>\n",
       "      <td>-0.222909</td>\n",
       "      <td>-0.290439</td>\n",
       "      <td>-0.277385</td>\n",
       "    </tr>\n",
       "    <tr>\n",
       "      <th>Polluted</th>\n",
       "      <td>0.546328</td>\n",
       "      <td>0.659793</td>\n",
       "      <td>1.000000</td>\n",
       "      <td>-0.197328</td>\n",
       "      <td>-0.260284</td>\n",
       "      <td>-0.235619</td>\n",
       "    </tr>\n",
       "    <tr>\n",
       "      <th>Interesting</th>\n",
       "      <td>-0.230955</td>\n",
       "      <td>-0.222909</td>\n",
       "      <td>-0.197328</td>\n",
       "      <td>1.000000</td>\n",
       "      <td>0.807888</td>\n",
       "      <td>0.798012</td>\n",
       "    </tr>\n",
       "    <tr>\n",
       "      <th>Pretty</th>\n",
       "      <td>-0.311456</td>\n",
       "      <td>-0.290439</td>\n",
       "      <td>-0.260284</td>\n",
       "      <td>0.807888</td>\n",
       "      <td>1.000000</td>\n",
       "      <td>0.827918</td>\n",
       "    </tr>\n",
       "    <tr>\n",
       "      <th>Pleasant</th>\n",
       "      <td>-0.282525</td>\n",
       "      <td>-0.277385</td>\n",
       "      <td>-0.235619</td>\n",
       "      <td>0.798012</td>\n",
       "      <td>0.827918</td>\n",
       "      <td>1.000000</td>\n",
       "    </tr>\n",
       "  </tbody>\n",
       "</table>\n",
       "</div>"
      ],
      "text/plain": [
       "             Dangerous     Dirty  Polluted  Interesting    Pretty  Pleasant\n",
       "Dangerous     1.000000  0.538669  0.546328    -0.230955 -0.311456 -0.282525\n",
       "Dirty         0.538669  1.000000  0.659793    -0.222909 -0.290439 -0.277385\n",
       "Polluted      0.546328  0.659793  1.000000    -0.197328 -0.260284 -0.235619\n",
       "Interesting  -0.230955 -0.222909 -0.197328     1.000000  0.807888  0.798012\n",
       "Pretty       -0.311456 -0.290439 -0.260284     0.807888  1.000000  0.827918\n",
       "Pleasant     -0.282525 -0.277385 -0.235619     0.798012  0.827918  1.000000"
      ]
     },
     "execution_count": 54,
     "metadata": {},
     "output_type": "execute_result"
    }
   ],
   "source": [
    "df_cecyte_labels_corr.corr(method='spearman')"
   ]
  },
  {
   "cell_type": "code",
   "execution_count": 55,
   "metadata": {},
   "outputs": [
    {
     "data": {
      "image/png": "[encoded data removed]",
      "text/plain": [
       "<matplotlib.figure.Figure at 0x1195266d8>"
      ]
     },
     "metadata": {},
     "output_type": "display_data"
    }
   ],
   "source": [
    "#Plotting the correlation matrix\n",
    "fig, ax = plt.subplots(figsize=(8, 8))\n",
    "cax=ax.matshow(df_cecyte_labels_corr.corr(method='spearman'),cmap=plt.get_cmap('coolwarm'), vmin=-1, vmax=1)\n",
    "ax.xaxis.set_major_locator(matplotlib.ticker.MultipleLocator(1))\n",
    "ax.yaxis.set_major_locator(matplotlib.ticker.MultipleLocator(1))\n",
    "ax.set_xticklabels([\"\"]+labels_ordered)\n",
    "ax.set_yticklabels([\"\"]+labels_ordered)\n",
    "plt.xticks(rotation=90,fontsize=17)\n",
    "plt.yticks(rotation=0,fontsize=17) \n",
    "\n",
    "#Plotting the grid\n",
    "j=-0.5\n",
    "for i in range(len(labels_ordered)):\n",
    "    ax.axhline(j, linestyle='-', color='white')\n",
    "    ax.axvline(j, linestyle='-', color='white')\n",
    "    j=j+1\n",
    "\n",
    "#Marking those labels that are not statistically significant at p<0.05\n",
    "pvalmat= np.zeros((len(labels_ordered), len(labels_ordered)))\n",
    "for i in range(len(labels_ordered)):    \n",
    "    for j in range(len(labels_ordered)):        \n",
    "        pvalmat[i,j] = scipy.stats.mstats.spearmanr(df_cecyte_labels_corr[df_cecyte_labels_corr.columns[i]], df_cecyte_labels_corr[df_cecyte_labels_corr.columns[j]])[1]\n",
    "        if pvalmat[i,j]>0.05:\n",
    "            ax.text(i, j, \"X\", va='center', ha='center')\n",
    "cbar=fig.colorbar(cax)\n",
    "cbar.ax.tick_params(labelsize=15)\n",
    "fig.tight_layout()\n",
    "plt.savefig('plots/correlation_locals_6_labels.jpg',figsize=(8, 8),dpi=900)"
   ]
  },
  {
   "cell_type": "markdown",
   "metadata": {
    "collapsed": true
   },
   "source": [
    "### Co-ocurrence matrix"
   ]
  },
  {
   "cell_type": "code",
   "execution_count": 56,
   "metadata": {},
   "outputs": [
    {
     "data": {
      "text/html": [
       "<div>\n",
       "<style>\n",
       "    .dataframe thead tr:only-child th {\n",
       "        text-align: right;\n",
       "    }\n",
       "\n",
       "    .dataframe thead th {\n",
       "        text-align: left;\n",
       "    }\n",
       "\n",
       "    .dataframe tbody tr th {\n",
       "        vertical-align: top;\n",
       "    }\n",
       "</style>\n",
       "<table border=\"1\" class=\"dataframe\">\n",
       "  <thead>\n",
       "    <tr style=\"text-align: right;\">\n",
       "      <th></th>\n",
       "      <th>imageName</th>\n",
       "      <th>Dangerous</th>\n",
       "      <th>Dirty</th>\n",
       "      <th>Pretty</th>\n",
       "      <th>Interesting</th>\n",
       "      <th>Polluted</th>\n",
       "      <th>Pleasant</th>\n",
       "    </tr>\n",
       "  </thead>\n",
       "  <tbody>\n",
       "    <tr>\n",
       "      <th>0</th>\n",
       "      <td>s_20140101_125134.jpg</td>\n",
       "      <td>4.0</td>\n",
       "      <td>3.0</td>\n",
       "      <td>4.0</td>\n",
       "      <td>4.0</td>\n",
       "      <td>4.0</td>\n",
       "      <td>4.0</td>\n",
       "    </tr>\n",
       "    <tr>\n",
       "      <th>1</th>\n",
       "      <td>s_20140101_125419.jpg</td>\n",
       "      <td>1.0</td>\n",
       "      <td>1.0</td>\n",
       "      <td>5.0</td>\n",
       "      <td>4.0</td>\n",
       "      <td>2.0</td>\n",
       "      <td>4.0</td>\n",
       "    </tr>\n",
       "    <tr>\n",
       "      <th>2</th>\n",
       "      <td>s_20140101_125819.jpg</td>\n",
       "      <td>1.0</td>\n",
       "      <td>1.0</td>\n",
       "      <td>7.0</td>\n",
       "      <td>7.0</td>\n",
       "      <td>1.0</td>\n",
       "      <td>6.0</td>\n",
       "    </tr>\n",
       "    <tr>\n",
       "      <th>3</th>\n",
       "      <td>s_20140101_125835.jpg</td>\n",
       "      <td>4.0</td>\n",
       "      <td>6.0</td>\n",
       "      <td>7.0</td>\n",
       "      <td>4.0</td>\n",
       "      <td>6.0</td>\n",
       "      <td>7.0</td>\n",
       "    </tr>\n",
       "    <tr>\n",
       "      <th>4</th>\n",
       "      <td>s_20140101_125939.jpg</td>\n",
       "      <td>2.0</td>\n",
       "      <td>3.0</td>\n",
       "      <td>2.0</td>\n",
       "      <td>2.0</td>\n",
       "      <td>2.0</td>\n",
       "      <td>4.0</td>\n",
       "    </tr>\n",
       "  </tbody>\n",
       "</table>\n",
       "</div>"
      ],
      "text/plain": [
       "               imageName  Dangerous  Dirty  Pretty  Interesting  Polluted  \\\n",
       "0  s_20140101_125134.jpg        4.0    3.0     4.0          4.0       4.0   \n",
       "1  s_20140101_125419.jpg        1.0    1.0     5.0          4.0       2.0   \n",
       "2  s_20140101_125819.jpg        1.0    1.0     7.0          7.0       1.0   \n",
       "3  s_20140101_125835.jpg        4.0    6.0     7.0          4.0       6.0   \n",
       "4  s_20140101_125939.jpg        2.0    3.0     2.0          2.0       2.0   \n",
       "\n",
       "   Pleasant  \n",
       "0       4.0  \n",
       "1       4.0  \n",
       "2       6.0  \n",
       "3       7.0  \n",
       "4       4.0  "
      ]
     },
     "execution_count": 56,
     "metadata": {},
     "output_type": "execute_result"
    }
   ],
   "source": [
    "df_cecyte_all_labels.head()"
   ]
  },
  {
   "cell_type": "code",
   "execution_count": 57,
   "metadata": {},
   "outputs": [
    {
     "data": {
      "text/html": [
       "<div>\n",
       "<style>\n",
       "    .dataframe thead tr:only-child th {\n",
       "        text-align: right;\n",
       "    }\n",
       "\n",
       "    .dataframe thead th {\n",
       "        text-align: left;\n",
       "    }\n",
       "\n",
       "    .dataframe tbody tr th {\n",
       "        vertical-align: top;\n",
       "    }\n",
       "</style>\n",
       "<table border=\"1\" class=\"dataframe\">\n",
       "  <thead>\n",
       "    <tr style=\"text-align: right;\">\n",
       "      <th></th>\n",
       "      <th>imageName</th>\n",
       "      <th>s1</th>\n",
       "      <th>s2</th>\n",
       "      <th>s3</th>\n",
       "      <th>s4</th>\n",
       "      <th>s5</th>\n",
       "      <th>s6</th>\n",
       "      <th>s7</th>\n",
       "      <th>s8</th>\n",
       "      <th>s9</th>\n",
       "      <th>s10</th>\n",
       "    </tr>\n",
       "  </thead>\n",
       "  <tbody>\n",
       "    <tr>\n",
       "      <th>0</th>\n",
       "      <td>s_20140101_125134.jpg</td>\n",
       "      <td>0.4</td>\n",
       "      <td>0.4</td>\n",
       "      <td>0.2</td>\n",
       "      <td>0.0</td>\n",
       "      <td>0.4</td>\n",
       "      <td>0.4</td>\n",
       "      <td>0.6</td>\n",
       "      <td>0.4</td>\n",
       "      <td>0.2</td>\n",
       "      <td>0.2</td>\n",
       "    </tr>\n",
       "    <tr>\n",
       "      <th>1</th>\n",
       "      <td>s_20140101_125419.jpg</td>\n",
       "      <td>0.4</td>\n",
       "      <td>1.0</td>\n",
       "      <td>0.4</td>\n",
       "      <td>0.0</td>\n",
       "      <td>0.0</td>\n",
       "      <td>0.8</td>\n",
       "      <td>0.2</td>\n",
       "      <td>0.0</td>\n",
       "      <td>0.4</td>\n",
       "      <td>0.0</td>\n",
       "    </tr>\n",
       "    <tr>\n",
       "      <th>2</th>\n",
       "      <td>s_20140101_125819.jpg</td>\n",
       "      <td>0.2</td>\n",
       "      <td>0.4</td>\n",
       "      <td>0.2</td>\n",
       "      <td>0.0</td>\n",
       "      <td>0.0</td>\n",
       "      <td>0.4</td>\n",
       "      <td>0.0</td>\n",
       "      <td>0.2</td>\n",
       "      <td>0.2</td>\n",
       "      <td>0.0</td>\n",
       "    </tr>\n",
       "    <tr>\n",
       "      <th>3</th>\n",
       "      <td>s_20140101_125835.jpg</td>\n",
       "      <td>0.2</td>\n",
       "      <td>0.8</td>\n",
       "      <td>0.6</td>\n",
       "      <td>0.6</td>\n",
       "      <td>0.2</td>\n",
       "      <td>0.8</td>\n",
       "      <td>0.4</td>\n",
       "      <td>0.2</td>\n",
       "      <td>0.6</td>\n",
       "      <td>0.0</td>\n",
       "    </tr>\n",
       "    <tr>\n",
       "      <th>4</th>\n",
       "      <td>s_20140101_125939.jpg</td>\n",
       "      <td>0.0</td>\n",
       "      <td>0.4</td>\n",
       "      <td>0.6</td>\n",
       "      <td>0.0</td>\n",
       "      <td>0.4</td>\n",
       "      <td>0.4</td>\n",
       "      <td>0.2</td>\n",
       "      <td>0.4</td>\n",
       "      <td>0.2</td>\n",
       "      <td>0.0</td>\n",
       "    </tr>\n",
       "  </tbody>\n",
       "</table>\n",
       "</div>"
      ],
      "text/plain": [
       "               imageName   s1   s2   s3   s4   s5   s6   s7   s8   s9  s10\n",
       "0  s_20140101_125134.jpg  0.4  0.4  0.2  0.0  0.4  0.4  0.6  0.4  0.2  0.2\n",
       "1  s_20140101_125419.jpg  0.4  1.0  0.4  0.0  0.0  0.8  0.2  0.0  0.4  0.0\n",
       "2  s_20140101_125819.jpg  0.2  0.4  0.2  0.0  0.0  0.4  0.0  0.2  0.2  0.0\n",
       "3  s_20140101_125835.jpg  0.2  0.8  0.6  0.6  0.2  0.8  0.4  0.2  0.6  0.0\n",
       "4  s_20140101_125939.jpg  0.0  0.4  0.6  0.0  0.4  0.4  0.2  0.4  0.2  0.0"
      ]
     },
     "execution_count": 57,
     "metadata": {},
     "output_type": "execute_result"
    }
   ],
   "source": [
    "df_cecyte_all_descriptors.head()"
   ]
  },
  {
   "cell_type": "code",
   "execution_count": 58,
   "metadata": {
    "collapsed": true
   },
   "outputs": [],
   "source": [
    "df_merge=df_cecyte_all_labels.merge(df_cecyte_all_descriptors,on=\"imageName\")"
   ]
  },
  {
   "cell_type": "code",
   "execution_count": 59,
   "metadata": {
    "collapsed": true
   },
   "outputs": [],
   "source": [
    "descriptor_dict={}\n",
    "for column_label in labels:\n",
    "    descriptor_list=[]\n",
    "    for descriptor in [\"s\"+str(i+1) for i in range(10)]:\n",
    "        count_descriptor=0\n",
    "        for row in range(len(df_merge)):\n",
    "            if df_merge[column_label][row]>=5.0:\n",
    "                if df_merge[descriptor][row]>=0.5:\n",
    "                    count_descriptor+=1\n",
    "        descriptor_list.append(count_descriptor)\n",
    "    descriptor_dict[column_label]=descriptor_list\n",
    "new_index=[\"s\"+str(i+1) for i in range(10)]\n",
    "df_co_ocurrence=pd.DataFrame.from_dict(descriptor_dict,orient=\"index\")\n",
    "df_co_ocurrence.rename(columns={i:\"s\"+str(i+1) for i in range(10)},inplace=True)"
   ]
  },
  {
   "cell_type": "code",
   "execution_count": 60,
   "metadata": {},
   "outputs": [
    {
     "data": {
      "text/html": [
       "<div>\n",
       "<style>\n",
       "    .dataframe thead tr:only-child th {\n",
       "        text-align: right;\n",
       "    }\n",
       "\n",
       "    .dataframe thead th {\n",
       "        text-align: left;\n",
       "    }\n",
       "\n",
       "    .dataframe tbody tr th {\n",
       "        vertical-align: top;\n",
       "    }\n",
       "</style>\n",
       "<table border=\"1\" class=\"dataframe\">\n",
       "  <thead>\n",
       "    <tr style=\"text-align: right;\">\n",
       "      <th></th>\n",
       "      <th>Dangerous</th>\n",
       "      <th>Dirty</th>\n",
       "      <th>Polluted</th>\n",
       "      <th>Interesting</th>\n",
       "      <th>Pretty</th>\n",
       "      <th>Pleasant</th>\n",
       "    </tr>\n",
       "  </thead>\n",
       "  <tbody>\n",
       "    <tr>\n",
       "      <th>s1</th>\n",
       "      <td>212</td>\n",
       "      <td>167</td>\n",
       "      <td>125</td>\n",
       "      <td>34</td>\n",
       "      <td>34</td>\n",
       "      <td>28</td>\n",
       "    </tr>\n",
       "    <tr>\n",
       "      <th>s2</th>\n",
       "      <td>297</td>\n",
       "      <td>257</td>\n",
       "      <td>189</td>\n",
       "      <td>89</td>\n",
       "      <td>101</td>\n",
       "      <td>92</td>\n",
       "    </tr>\n",
       "    <tr>\n",
       "      <th>s3</th>\n",
       "      <td>260</td>\n",
       "      <td>221</td>\n",
       "      <td>164</td>\n",
       "      <td>54</td>\n",
       "      <td>64</td>\n",
       "      <td>59</td>\n",
       "    </tr>\n",
       "    <tr>\n",
       "      <th>s4</th>\n",
       "      <td>185</td>\n",
       "      <td>187</td>\n",
       "      <td>142</td>\n",
       "      <td>33</td>\n",
       "      <td>32</td>\n",
       "      <td>30</td>\n",
       "    </tr>\n",
       "    <tr>\n",
       "      <th>s5</th>\n",
       "      <td>226</td>\n",
       "      <td>186</td>\n",
       "      <td>140</td>\n",
       "      <td>41</td>\n",
       "      <td>45</td>\n",
       "      <td>32</td>\n",
       "    </tr>\n",
       "    <tr>\n",
       "      <th>s6</th>\n",
       "      <td>301</td>\n",
       "      <td>256</td>\n",
       "      <td>187</td>\n",
       "      <td>130</td>\n",
       "      <td>155</td>\n",
       "      <td>149</td>\n",
       "    </tr>\n",
       "    <tr>\n",
       "      <th>s7</th>\n",
       "      <td>236</td>\n",
       "      <td>201</td>\n",
       "      <td>150</td>\n",
       "      <td>71</td>\n",
       "      <td>72</td>\n",
       "      <td>70</td>\n",
       "    </tr>\n",
       "    <tr>\n",
       "      <th>s8</th>\n",
       "      <td>169</td>\n",
       "      <td>158</td>\n",
       "      <td>121</td>\n",
       "      <td>42</td>\n",
       "      <td>52</td>\n",
       "      <td>41</td>\n",
       "    </tr>\n",
       "    <tr>\n",
       "      <th>s9</th>\n",
       "      <td>281</td>\n",
       "      <td>234</td>\n",
       "      <td>173</td>\n",
       "      <td>69</td>\n",
       "      <td>77</td>\n",
       "      <td>76</td>\n",
       "    </tr>\n",
       "    <tr>\n",
       "      <th>s10</th>\n",
       "      <td>98</td>\n",
       "      <td>83</td>\n",
       "      <td>61</td>\n",
       "      <td>20</td>\n",
       "      <td>16</td>\n",
       "      <td>17</td>\n",
       "    </tr>\n",
       "  </tbody>\n",
       "</table>\n",
       "</div>"
      ],
      "text/plain": [
       "     Dangerous  Dirty  Polluted  Interesting  Pretty  Pleasant\n",
       "s1         212    167       125           34      34        28\n",
       "s2         297    257       189           89     101        92\n",
       "s3         260    221       164           54      64        59\n",
       "s4         185    187       142           33      32        30\n",
       "s5         226    186       140           41      45        32\n",
       "s6         301    256       187          130     155       149\n",
       "s7         236    201       150           71      72        70\n",
       "s8         169    158       121           42      52        41\n",
       "s9         281    234       173           69      77        76\n",
       "s10         98     83        61           20      16        17"
      ]
     },
     "execution_count": 60,
     "metadata": {},
     "output_type": "execute_result"
    }
   ],
   "source": [
    "df_co_ocurrence.loc[labels_ordered,:].transpose()"
   ]
  },
  {
   "cell_type": "code",
   "execution_count": 61,
   "metadata": {},
   "outputs": [
    {
     "data": {
      "image/png": "[encoded data removed]",
      "text/plain": [
       "<matplotlib.figure.Figure at 0x1159521d0>"
      ]
     },
     "metadata": {},
     "output_type": "display_data"
    }
   ],
   "source": [
    "fig, ax = plt.subplots(figsize=(4, 6))\n",
    "cax=ax.matshow(df_co_ocurrence.loc[labels_ordered,:].transpose(),cmap=plt.get_cmap('Reds'), vmin=0, vmax=max(df_co_ocurrence.max()))\n",
    "ax.xaxis.set_major_locator(matplotlib.ticker.MultipleLocator(1))\n",
    "ax.yaxis.set_major_locator(matplotlib.ticker.MultipleLocator(1))\n",
    "ax.set_xticklabels([\"\"]+labels_ordered)\n",
    "ax.set_yticklabels([\"\"]+[\"s\"+str(i+1) for i in range(10)])\n",
    "plt.xticks(rotation=90,fontsize=12)\n",
    "plt.yticks(rotation=0,fontsize=12)\n",
    "#Plotting grid\n",
    "j=-0.5\n",
    "for i in range(len([\"s\"+str(i+1) for i in range(10)])):\n",
    "    ax.axhline(j, linestyle='-', color='white')\n",
    "    j=j+1\n",
    "j=-0.5\n",
    "for i in range(len(labels_ordered)):\n",
    "    ax.axvline(j, linestyle='-', color='white')\n",
    "    j=j+1\n",
    "\n",
    "cbar=fig.colorbar(cax)\n",
    "cbar.ax.tick_params(labelsize=11)\n",
    "fig.tight_layout()\n",
    "plt.savefig('plots/co_ocurrence_matrix_mode.jpg',dpi=300)"
   ]
  },
  {
   "cell_type": "code",
   "execution_count": 62,
   "metadata": {
    "scrolled": true
   },
   "outputs": [
    {
     "data": {
      "text/html": [
       "<div>\n",
       "<style>\n",
       "    .dataframe thead tr:only-child th {\n",
       "        text-align: right;\n",
       "    }\n",
       "\n",
       "    .dataframe thead th {\n",
       "        text-align: left;\n",
       "    }\n",
       "\n",
       "    .dataframe tbody tr th {\n",
       "        vertical-align: top;\n",
       "    }\n",
       "</style>\n",
       "<table border=\"1\" class=\"dataframe\">\n",
       "  <thead>\n",
       "    <tr style=\"text-align: right;\">\n",
       "      <th></th>\n",
       "      <th>Dangerous</th>\n",
       "      <th>Dirty</th>\n",
       "      <th>Polluted</th>\n",
       "      <th>Interesting</th>\n",
       "      <th>Pretty</th>\n",
       "      <th>Pleasant</th>\n",
       "    </tr>\n",
       "  </thead>\n",
       "  <tbody>\n",
       "    <tr>\n",
       "      <th>s1</th>\n",
       "      <td>314</td>\n",
       "      <td>262</td>\n",
       "      <td>201</td>\n",
       "      <td>141</td>\n",
       "      <td>164</td>\n",
       "      <td>157</td>\n",
       "    </tr>\n",
       "    <tr>\n",
       "      <th>s2</th>\n",
       "      <td>319</td>\n",
       "      <td>267</td>\n",
       "      <td>204</td>\n",
       "      <td>172</td>\n",
       "      <td>203</td>\n",
       "      <td>193</td>\n",
       "    </tr>\n",
       "    <tr>\n",
       "      <th>s3</th>\n",
       "      <td>319</td>\n",
       "      <td>266</td>\n",
       "      <td>204</td>\n",
       "      <td>151</td>\n",
       "      <td>181</td>\n",
       "      <td>169</td>\n",
       "    </tr>\n",
       "    <tr>\n",
       "      <th>s4</th>\n",
       "      <td>303</td>\n",
       "      <td>260</td>\n",
       "      <td>194</td>\n",
       "      <td>142</td>\n",
       "      <td>171</td>\n",
       "      <td>157</td>\n",
       "    </tr>\n",
       "    <tr>\n",
       "      <th>s5</th>\n",
       "      <td>316</td>\n",
       "      <td>266</td>\n",
       "      <td>201</td>\n",
       "      <td>149</td>\n",
       "      <td>172</td>\n",
       "      <td>168</td>\n",
       "    </tr>\n",
       "    <tr>\n",
       "      <th>s6</th>\n",
       "      <td>320</td>\n",
       "      <td>268</td>\n",
       "      <td>205</td>\n",
       "      <td>187</td>\n",
       "      <td>219</td>\n",
       "      <td>210</td>\n",
       "    </tr>\n",
       "    <tr>\n",
       "      <th>s7</th>\n",
       "      <td>318</td>\n",
       "      <td>265</td>\n",
       "      <td>202</td>\n",
       "      <td>165</td>\n",
       "      <td>198</td>\n",
       "      <td>188</td>\n",
       "    </tr>\n",
       "    <tr>\n",
       "      <th>s8</th>\n",
       "      <td>316</td>\n",
       "      <td>263</td>\n",
       "      <td>203</td>\n",
       "      <td>149</td>\n",
       "      <td>177</td>\n",
       "      <td>172</td>\n",
       "    </tr>\n",
       "    <tr>\n",
       "      <th>s9</th>\n",
       "      <td>319</td>\n",
       "      <td>267</td>\n",
       "      <td>202</td>\n",
       "      <td>163</td>\n",
       "      <td>193</td>\n",
       "      <td>187</td>\n",
       "    </tr>\n",
       "    <tr>\n",
       "      <th>s10</th>\n",
       "      <td>279</td>\n",
       "      <td>231</td>\n",
       "      <td>176</td>\n",
       "      <td>135</td>\n",
       "      <td>159</td>\n",
       "      <td>146</td>\n",
       "    </tr>\n",
       "  </tbody>\n",
       "</table>\n",
       "</div>"
      ],
      "text/plain": [
       "     Dangerous  Dirty  Polluted  Interesting  Pretty  Pleasant\n",
       "s1         314    262       201          141     164       157\n",
       "s2         319    267       204          172     203       193\n",
       "s3         319    266       204          151     181       169\n",
       "s4         303    260       194          142     171       157\n",
       "s5         316    266       201          149     172       168\n",
       "s6         320    268       205          187     219       210\n",
       "s7         318    265       202          165     198       188\n",
       "s8         316    263       203          149     177       172\n",
       "s9         319    267       202          163     193       187\n",
       "s10        279    231       176          135     159       146"
      ]
     },
     "execution_count": 62,
     "metadata": {},
     "output_type": "execute_result"
    }
   ],
   "source": [
    "descriptor_dict={}\n",
    "for column_label in labels:\n",
    "    descriptor_list=[]\n",
    "    for descriptor in [\"s\"+str(i+1) for i in range(10)]:\n",
    "        count_descriptor=0\n",
    "        for row in range(len(df_merge)):\n",
    "            if df_merge[column_label][row]>=5.0:\n",
    "                if df_merge[descriptor][row]>0.0:\n",
    "                    count_descriptor+=1\n",
    "        descriptor_list.append(count_descriptor)\n",
    "    descriptor_dict[column_label]=descriptor_list\n",
    "new_index=[\"s\"+str(i+1) for i in range(10)]\n",
    "df_co_ocurrence_or=pd.DataFrame.from_dict(descriptor_dict,orient=\"index\")\n",
    "df_co_ocurrence_or.rename(columns={i:\"s\"+str(i+1) for i in range(10)},inplace=True)\n",
    "df_co_ocurrence_or.loc[labels_ordered,:].transpose()"
   ]
  },
  {
   "cell_type": "code",
   "execution_count": 63,
   "metadata": {},
   "outputs": [
    {
     "data": {
      "image/png": "[encoded data removed]",
      "text/plain": [
       "<matplotlib.figure.Figure at 0x11909d9e8>"
      ]
     },
     "metadata": {},
     "output_type": "display_data"
    }
   ],
   "source": [
    "fig, ax = plt.subplots(figsize=(4, 6))\n",
    "cax=ax.matshow(df_co_ocurrence_or.loc[labels_ordered,:].transpose(),cmap=plt.get_cmap('Reds'), vmin=0, vmax=max(df_co_ocurrence_or.max()))\n",
    "ax.xaxis.set_major_locator(matplotlib.ticker.MultipleLocator(1))\n",
    "ax.yaxis.set_major_locator(matplotlib.ticker.MultipleLocator(1))\n",
    "ax.set_xticklabels([\"\"]+labels_ordered)\n",
    "ax.set_yticklabels([\"\"]+[\"s\"+str(i+1) for i in range(10)])\n",
    "plt.xticks(rotation=90,fontsize=12)\n",
    "plt.yticks(rotation=0,fontsize=12)\n",
    "#Plotting the grid\n",
    "j=-0.5\n",
    "for i in range(len([\"s\"+str(i+1) for i in range(10)])):\n",
    "    ax.axhline(j, linestyle='-', color='white')\n",
    "    j=j+1\n",
    "j=-0.5\n",
    "for i in range(len(labels_ordered)):\n",
    "    ax.axvline(j, linestyle='-', color='white')\n",
    "    j=j+1\n",
    "\n",
    "cbar=fig.colorbar(cax)\n",
    "cbar.ax.tick_params(labelsize=11)\n",
    "fig.tight_layout()\n",
    "plt.savefig('plots/co_occurrence_matrix_or.jpg',dpi=300)"
   ]
  },
  {
   "cell_type": "code",
   "execution_count": 64,
   "metadata": {
    "collapsed": true
   },
   "outputs": [],
   "source": [
    "labels_cecyte=labels_ordered+[\"s\"+str(i+1) for i in range(10)]"
   ]
  },
  {
   "cell_type": "code",
   "execution_count": 65,
   "metadata": {
    "collapsed": true
   },
   "outputs": [],
   "source": [
    "df_merge_corr=df_merge[[\"imageName\"]+labels_cecyte]"
   ]
  },
  {
   "cell_type": "code",
   "execution_count": 66,
   "metadata": {},
   "outputs": [
    {
     "data": {
      "text/html": [
       "<div>\n",
       "<style>\n",
       "    .dataframe thead tr:only-child th {\n",
       "        text-align: right;\n",
       "    }\n",
       "\n",
       "    .dataframe thead th {\n",
       "        text-align: left;\n",
       "    }\n",
       "\n",
       "    .dataframe tbody tr th {\n",
       "        vertical-align: top;\n",
       "    }\n",
       "</style>\n",
       "<table border=\"1\" class=\"dataframe\">\n",
       "  <thead>\n",
       "    <tr style=\"text-align: right;\">\n",
       "      <th></th>\n",
       "      <th>Dangerous</th>\n",
       "      <th>Dirty</th>\n",
       "      <th>Polluted</th>\n",
       "      <th>Interesting</th>\n",
       "      <th>Pretty</th>\n",
       "      <th>Pleasant</th>\n",
       "    </tr>\n",
       "  </thead>\n",
       "  <tbody>\n",
       "    <tr>\n",
       "      <th>s1</th>\n",
       "      <td>0.364186</td>\n",
       "      <td>0.318894</td>\n",
       "      <td>0.317685</td>\n",
       "      <td>-0.340272</td>\n",
       "      <td>-0.360131</td>\n",
       "      <td>-0.398689</td>\n",
       "    </tr>\n",
       "    <tr>\n",
       "      <th>s2</th>\n",
       "      <td>0.367425</td>\n",
       "      <td>0.383756</td>\n",
       "      <td>0.326905</td>\n",
       "      <td>-0.447141</td>\n",
       "      <td>-0.487332</td>\n",
       "      <td>-0.468229</td>\n",
       "    </tr>\n",
       "    <tr>\n",
       "      <th>s3</th>\n",
       "      <td>0.377902</td>\n",
       "      <td>0.384549</td>\n",
       "      <td>0.358934</td>\n",
       "      <td>-0.409801</td>\n",
       "      <td>-0.444691</td>\n",
       "      <td>-0.466876</td>\n",
       "    </tr>\n",
       "    <tr>\n",
       "      <th>s4</th>\n",
       "      <td>0.281730</td>\n",
       "      <td>0.430479</td>\n",
       "      <td>0.388722</td>\n",
       "      <td>-0.297190</td>\n",
       "      <td>-0.320515</td>\n",
       "      <td>-0.338188</td>\n",
       "    </tr>\n",
       "    <tr>\n",
       "      <th>s5</th>\n",
       "      <td>0.349010</td>\n",
       "      <td>0.330520</td>\n",
       "      <td>0.298793</td>\n",
       "      <td>-0.360114</td>\n",
       "      <td>-0.402715</td>\n",
       "      <td>-0.408065</td>\n",
       "    </tr>\n",
       "    <tr>\n",
       "      <th>s6</th>\n",
       "      <td>0.270041</td>\n",
       "      <td>0.224298</td>\n",
       "      <td>0.192769</td>\n",
       "      <td>-0.325038</td>\n",
       "      <td>-0.363676</td>\n",
       "      <td>-0.331031</td>\n",
       "    </tr>\n",
       "    <tr>\n",
       "      <th>s7</th>\n",
       "      <td>0.278983</td>\n",
       "      <td>0.238728</td>\n",
       "      <td>0.199004</td>\n",
       "      <td>-0.289293</td>\n",
       "      <td>-0.323381</td>\n",
       "      <td>-0.333143</td>\n",
       "    </tr>\n",
       "    <tr>\n",
       "      <th>s8</th>\n",
       "      <td>0.251106</td>\n",
       "      <td>0.304412</td>\n",
       "      <td>0.302391</td>\n",
       "      <td>-0.286526</td>\n",
       "      <td>-0.292588</td>\n",
       "      <td>-0.311364</td>\n",
       "    </tr>\n",
       "    <tr>\n",
       "      <th>s9</th>\n",
       "      <td>0.350458</td>\n",
       "      <td>0.372584</td>\n",
       "      <td>0.315555</td>\n",
       "      <td>-0.410157</td>\n",
       "      <td>-0.452841</td>\n",
       "      <td>-0.443794</td>\n",
       "    </tr>\n",
       "    <tr>\n",
       "      <th>s10</th>\n",
       "      <td>0.219640</td>\n",
       "      <td>0.197184</td>\n",
       "      <td>0.177712</td>\n",
       "      <td>-0.173745</td>\n",
       "      <td>-0.181585</td>\n",
       "      <td>-0.219465</td>\n",
       "    </tr>\n",
       "  </tbody>\n",
       "</table>\n",
       "</div>"
      ],
      "text/plain": [
       "     Dangerous     Dirty  Polluted  Interesting    Pretty  Pleasant\n",
       "s1    0.364186  0.318894  0.317685    -0.340272 -0.360131 -0.398689\n",
       "s2    0.367425  0.383756  0.326905    -0.447141 -0.487332 -0.468229\n",
       "s3    0.377902  0.384549  0.358934    -0.409801 -0.444691 -0.466876\n",
       "s4    0.281730  0.430479  0.388722    -0.297190 -0.320515 -0.338188\n",
       "s5    0.349010  0.330520  0.298793    -0.360114 -0.402715 -0.408065\n",
       "s6    0.270041  0.224298  0.192769    -0.325038 -0.363676 -0.331031\n",
       "s7    0.278983  0.238728  0.199004    -0.289293 -0.323381 -0.333143\n",
       "s8    0.251106  0.304412  0.302391    -0.286526 -0.292588 -0.311364\n",
       "s9    0.350458  0.372584  0.315555    -0.410157 -0.452841 -0.443794\n",
       "s10   0.219640  0.197184  0.177712    -0.173745 -0.181585 -0.219465"
      ]
     },
     "execution_count": 66,
     "metadata": {},
     "output_type": "execute_result"
    }
   ],
   "source": [
    "df_merge_corr.corr(method=\"spearman\").loc[[\"s\"+str(i+1) for i in range(10)],labels_ordered]"
   ]
  },
  {
   "cell_type": "code",
   "execution_count": 67,
   "metadata": {},
   "outputs": [
    {
     "data": {
      "image/png": "[encoded data removed]",
      "text/plain": [
       "<matplotlib.figure.Figure at 0x113225dd8>"
      ]
     },
     "metadata": {},
     "output_type": "display_data"
    }
   ],
   "source": [
    "#Plotting the correlation matrix\n",
    "fig, ax = plt.subplots(figsize=(4, 6))\n",
    "cax=ax.matshow(df_merge_corr.drop(\"imageName\",axis=1).corr(method='spearman').loc[[\"s\"+str(i+1) for i in range(10)],labels_ordered],cmap=plt.get_cmap('coolwarm'), vmin=-1, vmax=1)\n",
    "ax.xaxis.set_major_locator(matplotlib.ticker.MultipleLocator(1))\n",
    "ax.yaxis.set_major_locator(matplotlib.ticker.MultipleLocator(1))\n",
    "ax.set_xticklabels([\"\"]+labels_ordered)\n",
    "ax.set_yticklabels([\"\"]+[\"s\"+str(i+1) for i in range(10)])\n",
    "plt.xticks(rotation=90,fontsize=12)\n",
    "plt.yticks(rotation=0,fontsize=12) \n",
    "\n",
    "#Plotting the grid\n",
    "j=-0.5\n",
    "for i in range(len(labels_ordered)):\n",
    "    ax.axvline(j, linestyle='-', color='white')\n",
    "    j=j+1\n",
    "j=-0.5\n",
    "for i in range(len([\"s\"+str(i+1) for i in range(10)])):\n",
    "    ax.axhline(j, linestyle='-', color='white')\n",
    "    j=j+1\n",
    "    \n",
    "    \n",
    "#Marking those labels that are not statistically significant at p<0.05\n",
    "#From previous execution of this section, we got that all the values are statistically significant at p<0.05\n",
    "#pvalmat= np.zeros((len(labels_cecyte), len(labels_cecyte)))\n",
    "#for i in range(len(labels_ordered)):    \n",
    "    #for j in range(len(labels_ordered)):        \n",
    "        #pvalmat[i,j] = scipy.stats.mstats.spearmanr(df_merge_corr.drop(\"imageName\",axis=1)[df_merge_corr.drop(\"imageName\",axis=1).columns[i]], df_merge_corr.drop(\"imageName\",axis=1)[df_merge_corr.drop(\"imageName\",axis=1).columns[j]])[1]\n",
    "        #if pvalmat[i,j]>0.05:\n",
    "            #ax.text(i, j, \"X\", va='center', ha='center')\n",
    "cbar=fig.colorbar(cax)\n",
    "cbar.ax.tick_params(labelsize=11)\n",
    "fig.tight_layout()\n",
    "plt.savefig('plots/correlation_locals_descriptors_labels.jpg',dpi=300)"
   ]
  },
  {
   "cell_type": "markdown",
   "metadata": {},
   "source": [
    "## Plotting ratings for both MTurk and CECYTE datasets"
   ]
  },
  {
   "cell_type": "code",
   "execution_count": 167,
   "metadata": {
    "collapsed": true
   },
   "outputs": [],
   "source": [
    "df_mturk_6_labels=pd.read_csv(\"datasets/all-places-all-labels-median-medina.csv\",sep=\",\")[[\"annotation\"]+labels].rename(columns={\"annotation\":\"imageName\"})"
   ]
  },
  {
   "cell_type": "code",
   "execution_count": 69,
   "metadata": {},
   "outputs": [
    {
     "data": {
      "text/html": [
       "<div>\n",
       "<style>\n",
       "    .dataframe thead tr:only-child th {\n",
       "        text-align: right;\n",
       "    }\n",
       "\n",
       "    .dataframe thead th {\n",
       "        text-align: left;\n",
       "    }\n",
       "\n",
       "    .dataframe tbody tr th {\n",
       "        vertical-align: top;\n",
       "    }\n",
       "</style>\n",
       "<table border=\"1\" class=\"dataframe\">\n",
       "  <thead>\n",
       "    <tr style=\"text-align: right;\">\n",
       "      <th></th>\n",
       "      <th>imageName</th>\n",
       "      <th>Dangerous</th>\n",
       "      <th>Dirty</th>\n",
       "      <th>Pretty</th>\n",
       "      <th>Interesting</th>\n",
       "      <th>Polluted</th>\n",
       "      <th>Pleasant</th>\n",
       "    </tr>\n",
       "  </thead>\n",
       "  <tbody>\n",
       "    <tr>\n",
       "      <th>0</th>\n",
       "      <td>s_20140101_125134.jpg</td>\n",
       "      <td>2.0</td>\n",
       "      <td>2.0</td>\n",
       "      <td>5.0</td>\n",
       "      <td>5.5</td>\n",
       "      <td>2.0</td>\n",
       "      <td>5.0</td>\n",
       "    </tr>\n",
       "    <tr>\n",
       "      <th>1</th>\n",
       "      <td>s_20140101_125419.jpg</td>\n",
       "      <td>2.5</td>\n",
       "      <td>3.0</td>\n",
       "      <td>3.0</td>\n",
       "      <td>5.0</td>\n",
       "      <td>2.5</td>\n",
       "      <td>4.0</td>\n",
       "    </tr>\n",
       "    <tr>\n",
       "      <th>2</th>\n",
       "      <td>s_20140101_125819.jpg</td>\n",
       "      <td>2.0</td>\n",
       "      <td>2.5</td>\n",
       "      <td>5.0</td>\n",
       "      <td>6.0</td>\n",
       "      <td>2.0</td>\n",
       "      <td>6.0</td>\n",
       "    </tr>\n",
       "    <tr>\n",
       "      <th>3</th>\n",
       "      <td>s_20140101_125835.jpg</td>\n",
       "      <td>4.0</td>\n",
       "      <td>4.0</td>\n",
       "      <td>3.0</td>\n",
       "      <td>4.5</td>\n",
       "      <td>3.0</td>\n",
       "      <td>4.0</td>\n",
       "    </tr>\n",
       "    <tr>\n",
       "      <th>4</th>\n",
       "      <td>s_20140101_125939.jpg</td>\n",
       "      <td>3.0</td>\n",
       "      <td>3.0</td>\n",
       "      <td>5.0</td>\n",
       "      <td>5.5</td>\n",
       "      <td>2.5</td>\n",
       "      <td>5.5</td>\n",
       "    </tr>\n",
       "  </tbody>\n",
       "</table>\n",
       "</div>"
      ],
      "text/plain": [
       "               imageName  Dangerous  Dirty  Pretty  Interesting  Polluted  \\\n",
       "0  s_20140101_125134.jpg        2.0    2.0     5.0          5.5       2.0   \n",
       "1  s_20140101_125419.jpg        2.5    3.0     3.0          5.0       2.5   \n",
       "2  s_20140101_125819.jpg        2.0    2.5     5.0          6.0       2.0   \n",
       "3  s_20140101_125835.jpg        4.0    4.0     3.0          4.5       3.0   \n",
       "4  s_20140101_125939.jpg        3.0    3.0     5.0          5.5       2.5   \n",
       "\n",
       "   Pleasant  \n",
       "0       5.0  \n",
       "1       4.0  \n",
       "2       6.0  \n",
       "3       4.0  \n",
       "4       5.5  "
      ]
     },
     "execution_count": 69,
     "metadata": {},
     "output_type": "execute_result"
    }
   ],
   "source": [
    "df_mturk_6_labels.head()"
   ]
  },
  {
   "cell_type": "code",
   "execution_count": 70,
   "metadata": {},
   "outputs": [
    {
     "data": {
      "text/html": [
       "<div>\n",
       "<style>\n",
       "    .dataframe thead tr:only-child th {\n",
       "        text-align: right;\n",
       "    }\n",
       "\n",
       "    .dataframe thead th {\n",
       "        text-align: left;\n",
       "    }\n",
       "\n",
       "    .dataframe tbody tr th {\n",
       "        vertical-align: top;\n",
       "    }\n",
       "</style>\n",
       "<table border=\"1\" class=\"dataframe\">\n",
       "  <thead>\n",
       "    <tr style=\"text-align: right;\">\n",
       "      <th></th>\n",
       "      <th>imageName</th>\n",
       "      <th>Dangerous</th>\n",
       "      <th>Dirty</th>\n",
       "      <th>Pretty</th>\n",
       "      <th>Interesting</th>\n",
       "      <th>Polluted</th>\n",
       "      <th>Pleasant</th>\n",
       "    </tr>\n",
       "  </thead>\n",
       "  <tbody>\n",
       "    <tr>\n",
       "      <th>0</th>\n",
       "      <td>s_20140101_125134.jpg</td>\n",
       "      <td>4.0</td>\n",
       "      <td>3.0</td>\n",
       "      <td>4.0</td>\n",
       "      <td>4.0</td>\n",
       "      <td>4.0</td>\n",
       "      <td>4.0</td>\n",
       "    </tr>\n",
       "    <tr>\n",
       "      <th>1</th>\n",
       "      <td>s_20140101_125419.jpg</td>\n",
       "      <td>1.0</td>\n",
       "      <td>1.0</td>\n",
       "      <td>5.0</td>\n",
       "      <td>4.0</td>\n",
       "      <td>2.0</td>\n",
       "      <td>4.0</td>\n",
       "    </tr>\n",
       "    <tr>\n",
       "      <th>2</th>\n",
       "      <td>s_20140101_125819.jpg</td>\n",
       "      <td>1.0</td>\n",
       "      <td>1.0</td>\n",
       "      <td>7.0</td>\n",
       "      <td>7.0</td>\n",
       "      <td>1.0</td>\n",
       "      <td>6.0</td>\n",
       "    </tr>\n",
       "    <tr>\n",
       "      <th>3</th>\n",
       "      <td>s_20140101_125835.jpg</td>\n",
       "      <td>4.0</td>\n",
       "      <td>6.0</td>\n",
       "      <td>7.0</td>\n",
       "      <td>4.0</td>\n",
       "      <td>6.0</td>\n",
       "      <td>7.0</td>\n",
       "    </tr>\n",
       "    <tr>\n",
       "      <th>4</th>\n",
       "      <td>s_20140101_125939.jpg</td>\n",
       "      <td>2.0</td>\n",
       "      <td>3.0</td>\n",
       "      <td>2.0</td>\n",
       "      <td>2.0</td>\n",
       "      <td>2.0</td>\n",
       "      <td>4.0</td>\n",
       "    </tr>\n",
       "  </tbody>\n",
       "</table>\n",
       "</div>"
      ],
      "text/plain": [
       "               imageName  Dangerous  Dirty  Pretty  Interesting  Polluted  \\\n",
       "0  s_20140101_125134.jpg        4.0    3.0     4.0          4.0       4.0   \n",
       "1  s_20140101_125419.jpg        1.0    1.0     5.0          4.0       2.0   \n",
       "2  s_20140101_125819.jpg        1.0    1.0     7.0          7.0       1.0   \n",
       "3  s_20140101_125835.jpg        4.0    6.0     7.0          4.0       6.0   \n",
       "4  s_20140101_125939.jpg        2.0    3.0     2.0          2.0       2.0   \n",
       "\n",
       "   Pleasant  \n",
       "0       4.0  \n",
       "1       4.0  \n",
       "2       6.0  \n",
       "3       7.0  \n",
       "4       4.0  "
      ]
     },
     "execution_count": 70,
     "metadata": {},
     "output_type": "execute_result"
    }
   ],
   "source": [
    "df_cecyte_all_labels.head()"
   ]
  },
  {
   "cell_type": "code",
   "execution_count": 155,
   "metadata": {
    "collapsed": true
   },
   "outputs": [],
   "source": [
    "def roundup(x):\n",
    "    return round(x+0.001)"
   ]
  },
  {
   "cell_type": "code",
   "execution_count": 71,
   "metadata": {
    "collapsed": true
   },
   "outputs": [],
   "source": [
    "def plot_distributions(df_locals,df_mturk,label,image_column):\n",
    "    df_temp=pd.merge(df_mturk[[image_column,label]],df_locals[[image_column,label]],on=image_column).drop(image_column,axis=1).apply(roundup)\n",
    "    mturk_label=label+\"_x\"\n",
    "    locals_label=label+\"_y\"\n",
    "    mturk=df_temp.groupby([mturk_label],as_index=False).count().rename(columns={mturk_label:\"score\",locals_label:\"MTurkers\"})\n",
    "    locals_=df_temp.groupby([locals_label],as_index=False).count().rename(columns={locals_label:\"score\",mturk_label:\"CECYTE\"})\n",
    "    df_return=pd.merge(mturk,locals_,on=\"score\",how=\"outer\")\n",
    "    df_return[\"score\"]=df_return[\"score\"].replace(to_replace={1.0:\"(0,1]\",2.0:\"(1,2]\",3.0:\"(2,3]\",4.0:\"(3,4]\",5.0:\"(4,5]\",6.0:\"(5,6]\",7:\"(6,7]\"})\n",
    "    df_return.plot(\"score\",kind=\"bar\",grid=True,rot=0,figsize=(7,5),fontsize=13,width=0.8)\n",
    "    plt.xlabel('Rating score',fontsize=13)\n",
    "    plt.ylabel('frequency',fontsize=13)\n",
    "    plt.savefig('plots/distributions_mturk_cecyte/'+str(label)+\".jpg\", dpi=300)"
   ]
  },
  {
   "cell_type": "code",
   "execution_count": 156,
   "metadata": {
    "collapsed": true
   },
   "outputs": [],
   "source": [
    "def get_percentage_between_groups(label,df_locals,df_mturk,image_column):\n",
    "    df_temp=pd.merge(df_mturk[[image_column,label]],df_locals[[image_column,label]],on=image_column).drop(image_column,axis=1).apply(roundup)\n",
    "    mturk_label=label+\"_x\"\n",
    "    locals_label=label+\"_y\"\n",
    "    mturk=df_temp.groupby([mturk_label],as_index=False).count().rename(columns={mturk_label:\"score\",locals_label:\"MTurkers\"})\n",
    "    locals_=df_temp.groupby([locals_label],as_index=False).count().rename(columns={locals_label:\"score\",mturk_label:\"CECYTE\"})\n",
    "    df_return=pd.merge(mturk,locals_,on=\"score\",how=\"outer\")\n",
    "    temp=df_return[df_return[\"score\"].isin([5,6,7])][[\"MTurkers\",\"CECYTE\"]].sum()\n",
    "\n",
    "    round(temp/temp.sum()*100,2)"
   ]
  },
  {
   "cell_type": "code",
   "execution_count": 157,
   "metadata": {},
   "outputs": [
    {
     "data": {
      "text/plain": [
       "MTurkers    58.22\n",
       "CECYTE      41.78\n",
       "dtype: float64"
      ]
     },
     "execution_count": 157,
     "metadata": {},
     "output_type": "execute_result"
    }
   ],
   "source": []
  },
  {
   "cell_type": "code",
   "execution_count": 72,
   "metadata": {},
   "outputs": [
    {
     "data": {
      "image/png": "[encoded data removed]",
      "text/plain": [
       "<matplotlib.figure.Figure at 0x113219438>"
      ]
     },
     "metadata": {},
     "output_type": "display_data"
    }
   ],
   "source": [
    "#Dangerous\n",
    "df_prueba=plot_distributions(df_cecyte_all_labels,df_mturk_6_labels,\"Dangerous\",\"imageName\")"
   ]
  },
  {
   "cell_type": "code",
   "execution_count": 158,
   "metadata": {},
   "outputs": [
    {
     "data": {
      "text/plain": [
       "MTurkers    27.44\n",
       "CECYTE      72.56\n",
       "dtype: float64"
      ]
     },
     "execution_count": 158,
     "metadata": {},
     "output_type": "execute_result"
    }
   ],
   "source": [
    "get_percentage_between_groups(\"Dangerous\",df_cecyte_all_labels,df_mturk_6_labels,\"imageName\")"
   ]
  },
  {
   "cell_type": "code",
   "execution_count": 73,
   "metadata": {},
   "outputs": [
    {
     "data": {
      "image/png": "[encoded data removed]",
      "text/plain": [
       "<matplotlib.figure.Figure at 0x11def3860>"
      ]
     },
     "metadata": {},
     "output_type": "display_data"
    }
   ],
   "source": [
    "#Dirty\n",
    "df_prueba=plot_distributions(df_cecyte_all_labels,df_mturk_6_labels,\"Dirty\",\"imageName\")"
   ]
  },
  {
   "cell_type": "code",
   "execution_count": 159,
   "metadata": {},
   "outputs": [
    {
     "data": {
      "text/plain": [
       "MTurkers    39.5\n",
       "CECYTE      60.5\n",
       "dtype: float64"
      ]
     },
     "execution_count": 159,
     "metadata": {},
     "output_type": "execute_result"
    }
   ],
   "source": [
    "get_percentage_between_groups(\"Dirty\",df_cecyte_all_labels,df_mturk_6_labels,\"imageName\")"
   ]
  },
  {
   "cell_type": "code",
   "execution_count": 74,
   "metadata": {},
   "outputs": [
    {
     "data": {
      "image/png": "[encoded data removed]",
      "text/plain": [
       "<matplotlib.figure.Figure at 0x11953a438>"
      ]
     },
     "metadata": {},
     "output_type": "display_data"
    }
   ],
   "source": [
    "#Pretty\n",
    "df_prueba=plot_distributions(df_cecyte_all_labels,df_mturk_6_labels,\"Pretty\",\"imageName\")"
   ]
  },
  {
   "cell_type": "code",
   "execution_count": 160,
   "metadata": {},
   "outputs": [
    {
     "data": {
      "text/plain": [
       "MTurkers    40.05\n",
       "CECYTE      59.95\n",
       "dtype: float64"
      ]
     },
     "execution_count": 160,
     "metadata": {},
     "output_type": "execute_result"
    }
   ],
   "source": [
    "get_percentage_between_groups(\"Pretty\",df_cecyte_all_labels,df_mturk_6_labels,\"imageName\")"
   ]
  },
  {
   "cell_type": "code",
   "execution_count": 75,
   "metadata": {},
   "outputs": [
    {
     "data": {
      "image/png": "[encoded data removed]",
      "text/plain": [
       "<matplotlib.figure.Figure at 0x118e7e5f8>"
      ]
     },
     "metadata": {},
     "output_type": "display_data"
    }
   ],
   "source": [
    "#Interesting\n",
    "df_prueba=plot_distributions(df_cecyte_all_labels,df_mturk_6_labels,\"Interesting\",\"imageName\")"
   ]
  },
  {
   "cell_type": "code",
   "execution_count": 161,
   "metadata": {},
   "outputs": [
    {
     "data": {
      "text/plain": [
       "MTurkers    64.39\n",
       "CECYTE      35.61\n",
       "dtype: float64"
      ]
     },
     "execution_count": 161,
     "metadata": {},
     "output_type": "execute_result"
    }
   ],
   "source": [
    "get_percentage_between_groups(\"Interesting\",df_cecyte_all_labels,df_mturk_6_labels,\"imageName\")"
   ]
  },
  {
   "cell_type": "code",
   "execution_count": 76,
   "metadata": {},
   "outputs": [
    {
     "data": {
      "image/png": "[encoded data removed]",
      "text/plain": [
       "<matplotlib.figure.Figure at 0x1150c6400>"
      ]
     },
     "metadata": {},
     "output_type": "display_data"
    }
   ],
   "source": [
    "#Polluted\n",
    "df_prueba=plot_distributions(df_cecyte_all_labels,df_mturk_6_labels,\"Polluted\",\"imageName\")"
   ]
  },
  {
   "cell_type": "code",
   "execution_count": 162,
   "metadata": {},
   "outputs": [
    {
     "data": {
      "text/plain": [
       "MTurkers    24.91\n",
       "CECYTE      75.09\n",
       "dtype: float64"
      ]
     },
     "execution_count": 162,
     "metadata": {},
     "output_type": "execute_result"
    }
   ],
   "source": [
    "get_percentage_between_groups(\"Polluted\",df_cecyte_all_labels,df_mturk_6_labels,\"imageName\")"
   ]
  },
  {
   "cell_type": "code",
   "execution_count": 77,
   "metadata": {},
   "outputs": [
    {
     "data": {
      "image/png": "[encoded data removed]",
      "text/plain": [
       "<matplotlib.figure.Figure at 0x115503ef0>"
      ]
     },
     "metadata": {},
     "output_type": "display_data"
    }
   ],
   "source": [
    "#Pleasant\n",
    "df_prueba=plot_distributions(df_cecyte_all_labels,df_mturk_6_labels,\"Pleasant\",\"imageName\")"
   ]
  },
  {
   "cell_type": "code",
   "execution_count": 163,
   "metadata": {},
   "outputs": [
    {
     "data": {
      "text/plain": [
       "MTurkers    58.22\n",
       "CECYTE      41.78\n",
       "dtype: float64"
      ]
     },
     "execution_count": 163,
     "metadata": {},
     "output_type": "execute_result"
    }
   ],
   "source": [
    "get_percentage_between_groups(\"Pleasant\",df_cecyte_all_labels,df_mturk_6_labels,\"imageName\")"
   ]
  },
  {
   "cell_type": "code",
   "execution_count": 175,
   "metadata": {},
   "outputs": [
    {
     "data": {
      "text/html": [
       "<div>\n",
       "<style>\n",
       "    .dataframe thead tr:only-child th {\n",
       "        text-align: right;\n",
       "    }\n",
       "\n",
       "    .dataframe thead th {\n",
       "        text-align: left;\n",
       "    }\n",
       "\n",
       "    .dataframe tbody tr th {\n",
       "        vertical-align: top;\n",
       "    }\n",
       "</style>\n",
       "<table border=\"1\" class=\"dataframe\">\n",
       "  <thead>\n",
       "    <tr style=\"text-align: right;\">\n",
       "      <th></th>\n",
       "      <th>imageName</th>\n",
       "      <th>Dangerous_CECYTE</th>\n",
       "      <th>Dangerous_MTurk</th>\n",
       "    </tr>\n",
       "  </thead>\n",
       "  <tbody>\n",
       "    <tr>\n",
       "      <th>0</th>\n",
       "      <td>s_20140510_142207.jpg</td>\n",
       "      <td>7.0</td>\n",
       "      <td>1.5</td>\n",
       "    </tr>\n",
       "  </tbody>\n",
       "</table>\n",
       "</div>"
      ],
      "text/plain": [
       "               imageName  Dangerous_CECYTE  Dangerous_MTurk\n",
       "0  s_20140510_142207.jpg               7.0              1.5"
      ]
     },
     "execution_count": 175,
     "metadata": {},
     "output_type": "execute_result"
    }
   ],
   "source": [
    "#Getting the image I-1, as shown in the scatter plot of the pair-wise analysis\n",
    "#of the ratings made by the both groups for the label Dangerous.\n",
    "df_cecyte_all_labels[df_cecyte_all_labels[\"Dangerous\"]==7].merge(df_mturk_6_labels[df_mturk_6_labels[\"Dangerous\"]==1.5],on=\"imageName\").rename(columns={\"Dangerous_x\":\"Dangerous_CECYTE\",\"Dangerous_y\":\"Dangerous_MTurk\"})[[\"imageName\",\"Dangerous_CECYTE\",\"Dangerous_MTurk\"]]"
   ]
  },
  {
   "cell_type": "code",
   "execution_count": 179,
   "metadata": {},
   "outputs": [
    {
     "data": {
      "text/html": [
       "<div>\n",
       "<style>\n",
       "    .dataframe thead tr:only-child th {\n",
       "        text-align: right;\n",
       "    }\n",
       "\n",
       "    .dataframe thead th {\n",
       "        text-align: left;\n",
       "    }\n",
       "\n",
       "    .dataframe tbody tr th {\n",
       "        vertical-align: top;\n",
       "    }\n",
       "</style>\n",
       "<table border=\"1\" class=\"dataframe\">\n",
       "  <thead>\n",
       "    <tr style=\"text-align: right;\">\n",
       "      <th></th>\n",
       "      <th>imageName</th>\n",
       "      <th>Interesting_CECYTE</th>\n",
       "      <th>Interesting_MTurk</th>\n",
       "    </tr>\n",
       "  </thead>\n",
       "  <tbody>\n",
       "    <tr>\n",
       "      <th>0</th>\n",
       "      <td>s_20140117_173343.jpg</td>\n",
       "      <td>1.0</td>\n",
       "      <td>6.0</td>\n",
       "    </tr>\n",
       "  </tbody>\n",
       "</table>\n",
       "</div>"
      ],
      "text/plain": [
       "               imageName  Interesting_CECYTE  Interesting_MTurk\n",
       "0  s_20140117_173343.jpg                 1.0                6.0"
      ]
     },
     "execution_count": 179,
     "metadata": {},
     "output_type": "execute_result"
    }
   ],
   "source": [
    "#Getting the image I-2, as shown in the scatter plot of the pair-wise analysis\n",
    "#of the ratings made by the both groups for the label Interesting.\n",
    "df_cecyte_all_labels[df_cecyte_all_labels[\"Interesting\"]==1].merge(df_mturk_6_labels[df_mturk_6_labels[\"Interesting\"]==6],on=\"imageName\").rename(columns={\"Interesting_x\":\"Interesting_CECYTE\",\"Interesting_y\":\"Interesting_MTurk\"})[[\"imageName\",\"Interesting_CECYTE\",\"Interesting_MTurk\"]]"
   ]
  },
  {
   "cell_type": "code",
   "execution_count": null,
   "metadata": {
    "collapsed": true
   },
   "outputs": [],
   "source": []
  }
 ],
 "metadata": {
  "kernelspec": {
   "display_name": "Python 3",
   "language": "python",
   "name": "python3"
  },
  "language_info": {
   "codemirror_mode": {
    "name": "ipython",
    "version": 3
   },
   "file_extension": ".py",
   "mimetype": "text/x-python",
   "name": "python",
   "nbconvert_exporter": "python",
   "pygments_lexer": "ipython3",
   "version": "3.6.1"
  }
 },
 "nbformat": 4,
 "nbformat_minor": 2
}
